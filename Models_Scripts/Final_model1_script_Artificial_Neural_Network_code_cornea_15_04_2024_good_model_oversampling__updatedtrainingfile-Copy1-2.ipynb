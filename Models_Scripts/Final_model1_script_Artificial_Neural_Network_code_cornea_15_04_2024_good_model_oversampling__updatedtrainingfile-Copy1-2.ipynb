{
 "cells": [
  {
   "cell_type": "code",
   "execution_count": 53,
   "id": "PjHawHmQJkX5",
   "metadata": {
    "colab": {
     "background_save": true
    },
    "id": "PjHawHmQJkX5",
    "outputId": "ef81c5b8-e9f2-44c9-ca12-077537992a26"
   },
   "outputs": [
    {
     "name": "stdout",
     "output_type": "stream",
     "text": [
      "Requirement already satisfied: keras in /opt/anaconda3/lib/python3.12/site-packages (3.6.0)\n",
      "Requirement already satisfied: absl-py in /opt/anaconda3/lib/python3.12/site-packages (from keras) (2.1.0)\n",
      "Requirement already satisfied: numpy in /opt/anaconda3/lib/python3.12/site-packages (from keras) (1.26.4)\n",
      "Requirement already satisfied: rich in /opt/anaconda3/lib/python3.12/site-packages (from keras) (13.3.5)\n",
      "Requirement already satisfied: namex in /opt/anaconda3/lib/python3.12/site-packages (from keras) (0.0.8)\n",
      "Requirement already satisfied: h5py in /opt/anaconda3/lib/python3.12/site-packages (from keras) (3.11.0)\n",
      "Requirement already satisfied: optree in /opt/anaconda3/lib/python3.12/site-packages (from keras) (0.13.1)\n",
      "Requirement already satisfied: ml-dtypes in /opt/anaconda3/lib/python3.12/site-packages (from keras) (0.4.1)\n",
      "Requirement already satisfied: packaging in /opt/anaconda3/lib/python3.12/site-packages (from keras) (23.2)\n",
      "Requirement already satisfied: typing-extensions>=4.5.0 in /opt/anaconda3/lib/python3.12/site-packages (from optree->keras) (4.11.0)\n",
      "Requirement already satisfied: markdown-it-py<3.0.0,>=2.2.0 in /opt/anaconda3/lib/python3.12/site-packages (from rich->keras) (2.2.0)\n",
      "Requirement already satisfied: pygments<3.0.0,>=2.13.0 in /opt/anaconda3/lib/python3.12/site-packages (from rich->keras) (2.15.1)\n",
      "Requirement already satisfied: mdurl~=0.1 in /opt/anaconda3/lib/python3.12/site-packages (from markdown-it-py<3.0.0,>=2.2.0->rich->keras) (0.1.0)\n",
      "Requirement already satisfied: scikit-optimize in /opt/anaconda3/lib/python3.12/site-packages (0.10.2)\n",
      "Requirement already satisfied: joblib>=0.11 in /opt/anaconda3/lib/python3.12/site-packages (from scikit-optimize) (1.4.2)\n",
      "Requirement already satisfied: pyaml>=16.9 in /opt/anaconda3/lib/python3.12/site-packages (from scikit-optimize) (24.9.0)\n",
      "Requirement already satisfied: numpy>=1.20.3 in /opt/anaconda3/lib/python3.12/site-packages (from scikit-optimize) (1.26.4)\n",
      "Requirement already satisfied: scipy>=1.1.0 in /opt/anaconda3/lib/python3.12/site-packages (from scikit-optimize) (1.13.1)\n",
      "Requirement already satisfied: scikit-learn>=1.0.0 in /opt/anaconda3/lib/python3.12/site-packages (from scikit-optimize) (1.4.2)\n",
      "Requirement already satisfied: packaging>=21.3 in /opt/anaconda3/lib/python3.12/site-packages (from scikit-optimize) (23.2)\n",
      "Requirement already satisfied: PyYAML in /opt/anaconda3/lib/python3.12/site-packages (from pyaml>=16.9->scikit-optimize) (6.0.1)\n",
      "Requirement already satisfied: threadpoolctl>=2.0.0 in /opt/anaconda3/lib/python3.12/site-packages (from scikit-learn>=1.0.0->scikit-optimize) (2.2.0)\n",
      "Requirement already satisfied: scikit-optimize in /opt/anaconda3/lib/python3.12/site-packages (0.10.2)\n",
      "Requirement already satisfied: joblib>=0.11 in /opt/anaconda3/lib/python3.12/site-packages (from scikit-optimize) (1.4.2)\n",
      "Requirement already satisfied: pyaml>=16.9 in /opt/anaconda3/lib/python3.12/site-packages (from scikit-optimize) (24.9.0)\n",
      "Requirement already satisfied: numpy>=1.20.3 in /opt/anaconda3/lib/python3.12/site-packages (from scikit-optimize) (1.26.4)\n",
      "Requirement already satisfied: scipy>=1.1.0 in /opt/anaconda3/lib/python3.12/site-packages (from scikit-optimize) (1.13.1)\n",
      "Requirement already satisfied: scikit-learn>=1.0.0 in /opt/anaconda3/lib/python3.12/site-packages (from scikit-optimize) (1.4.2)\n",
      "Requirement already satisfied: packaging>=21.3 in /opt/anaconda3/lib/python3.12/site-packages (from scikit-optimize) (23.2)\n",
      "Requirement already satisfied: PyYAML in /opt/anaconda3/lib/python3.12/site-packages (from pyaml>=16.9->scikit-optimize) (6.0.1)\n",
      "Requirement already satisfied: threadpoolctl>=2.0.0 in /opt/anaconda3/lib/python3.12/site-packages (from scikit-learn>=1.0.0->scikit-optimize) (2.2.0)\n",
      "Requirement already satisfied: yellowbrick in /opt/anaconda3/lib/python3.12/site-packages (1.5)\n",
      "Requirement already satisfied: matplotlib!=3.0.0,>=2.0.2 in /opt/anaconda3/lib/python3.12/site-packages (from yellowbrick) (3.8.4)\n",
      "Requirement already satisfied: scipy>=1.0.0 in /opt/anaconda3/lib/python3.12/site-packages (from yellowbrick) (1.13.1)\n",
      "Requirement already satisfied: scikit-learn>=1.0.0 in /opt/anaconda3/lib/python3.12/site-packages (from yellowbrick) (1.4.2)\n",
      "Requirement already satisfied: numpy>=1.16.0 in /opt/anaconda3/lib/python3.12/site-packages (from yellowbrick) (1.26.4)\n",
      "Requirement already satisfied: cycler>=0.10.0 in /opt/anaconda3/lib/python3.12/site-packages (from yellowbrick) (0.11.0)\n",
      "Requirement already satisfied: contourpy>=1.0.1 in /opt/anaconda3/lib/python3.12/site-packages (from matplotlib!=3.0.0,>=2.0.2->yellowbrick) (1.2.0)\n",
      "Requirement already satisfied: fonttools>=4.22.0 in /opt/anaconda3/lib/python3.12/site-packages (from matplotlib!=3.0.0,>=2.0.2->yellowbrick) (4.51.0)\n",
      "Requirement already satisfied: kiwisolver>=1.3.1 in /opt/anaconda3/lib/python3.12/site-packages (from matplotlib!=3.0.0,>=2.0.2->yellowbrick) (1.4.4)\n",
      "Requirement already satisfied: packaging>=20.0 in /opt/anaconda3/lib/python3.12/site-packages (from matplotlib!=3.0.0,>=2.0.2->yellowbrick) (23.2)\n",
      "Requirement already satisfied: pillow>=8 in /opt/anaconda3/lib/python3.12/site-packages (from matplotlib!=3.0.0,>=2.0.2->yellowbrick) (10.3.0)\n",
      "Requirement already satisfied: pyparsing>=2.3.1 in /opt/anaconda3/lib/python3.12/site-packages (from matplotlib!=3.0.0,>=2.0.2->yellowbrick) (3.0.9)\n",
      "Requirement already satisfied: python-dateutil>=2.7 in /opt/anaconda3/lib/python3.12/site-packages (from matplotlib!=3.0.0,>=2.0.2->yellowbrick) (2.9.0.post0)\n",
      "Requirement already satisfied: joblib>=1.2.0 in /opt/anaconda3/lib/python3.12/site-packages (from scikit-learn>=1.0.0->yellowbrick) (1.4.2)\n",
      "Requirement already satisfied: threadpoolctl>=2.0.0 in /opt/anaconda3/lib/python3.12/site-packages (from scikit-learn>=1.0.0->yellowbrick) (2.2.0)\n",
      "Requirement already satisfied: six>=1.5 in /opt/anaconda3/lib/python3.12/site-packages (from python-dateutil>=2.7->matplotlib!=3.0.0,>=2.0.2->yellowbrick) (1.16.0)\n",
      "Requirement already satisfied: seaborn in /opt/anaconda3/lib/python3.12/site-packages (0.13.2)\n",
      "Requirement already satisfied: numpy!=1.24.0,>=1.20 in /opt/anaconda3/lib/python3.12/site-packages (from seaborn) (1.26.4)\n",
      "Requirement already satisfied: pandas>=1.2 in /opt/anaconda3/lib/python3.12/site-packages (from seaborn) (2.2.2)\n",
      "Requirement already satisfied: matplotlib!=3.6.1,>=3.4 in /opt/anaconda3/lib/python3.12/site-packages (from seaborn) (3.8.4)\n",
      "Requirement already satisfied: contourpy>=1.0.1 in /opt/anaconda3/lib/python3.12/site-packages (from matplotlib!=3.6.1,>=3.4->seaborn) (1.2.0)\n",
      "Requirement already satisfied: cycler>=0.10 in /opt/anaconda3/lib/python3.12/site-packages (from matplotlib!=3.6.1,>=3.4->seaborn) (0.11.0)\n",
      "Requirement already satisfied: fonttools>=4.22.0 in /opt/anaconda3/lib/python3.12/site-packages (from matplotlib!=3.6.1,>=3.4->seaborn) (4.51.0)\n",
      "Requirement already satisfied: kiwisolver>=1.3.1 in /opt/anaconda3/lib/python3.12/site-packages (from matplotlib!=3.6.1,>=3.4->seaborn) (1.4.4)\n",
      "Requirement already satisfied: packaging>=20.0 in /opt/anaconda3/lib/python3.12/site-packages (from matplotlib!=3.6.1,>=3.4->seaborn) (23.2)\n",
      "Requirement already satisfied: pillow>=8 in /opt/anaconda3/lib/python3.12/site-packages (from matplotlib!=3.6.1,>=3.4->seaborn) (10.3.0)\n",
      "Requirement already satisfied: pyparsing>=2.3.1 in /opt/anaconda3/lib/python3.12/site-packages (from matplotlib!=3.6.1,>=3.4->seaborn) (3.0.9)\n",
      "Requirement already satisfied: python-dateutil>=2.7 in /opt/anaconda3/lib/python3.12/site-packages (from matplotlib!=3.6.1,>=3.4->seaborn) (2.9.0.post0)\n",
      "Requirement already satisfied: pytz>=2020.1 in /opt/anaconda3/lib/python3.12/site-packages (from pandas>=1.2->seaborn) (2024.1)\n",
      "Requirement already satisfied: tzdata>=2022.7 in /opt/anaconda3/lib/python3.12/site-packages (from pandas>=1.2->seaborn) (2023.3)\n",
      "Requirement already satisfied: six>=1.5 in /opt/anaconda3/lib/python3.12/site-packages (from python-dateutil>=2.7->matplotlib!=3.6.1,>=3.4->seaborn) (1.16.0)\n"
     ]
    }
   ],
   "source": [
    "import pandas as pd\n",
    "import matplotlib.pyplot as plt\n",
    "import glob\n",
    "import numpy as np\n",
    "import joblib\n",
    "\n",
    "from sklearn.model_selection import train_test_split\n",
    "from sklearn.preprocessing import StandardScaler\n",
    "from sklearn.neural_network import MLPClassifier\n",
    "from sklearn.metrics import classification_report, ConfusionMatrixDisplay\n",
    "\n",
    "from sklearn.datasets import make_regression\n",
    "!pip3 install keras\n",
    "import keras\n",
    "from keras.models import Sequential\n",
    "from keras.layers import Dense\n",
    "from keras.optimizers import SGD\n",
    "from matplotlib import pyplot\n",
    "!pip install scikit-optimize\n",
    "!pip3 install scikit-optimize\n",
    "from skopt import BayesSearchCV\n",
    "!pip3 install yellowbrick\n",
    "from yellowbrick.classifier.rocauc import roc_auc\n",
    "\n",
    "from IPython.display import display, HTML\n",
    "show_html = lambda html : display(HTML(html))\n",
    "!pip3 install seaborn\n",
    "import seaborn as sns; sns.set(style='ticks', font='serif')\n",
    "from imblearn.over_sampling import RandomOverSampler\n",
    "from imblearn.under_sampling import RandomUnderSampler\n",
    "import tensorflow as tf"
   ]
  },
  {
   "cell_type": "code",
   "execution_count": 54,
   "id": "7sGObZYxxQVm",
   "metadata": {
    "colab": {
     "background_save": true
    },
    "id": "7sGObZYxxQVm"
   },
   "outputs": [],
   "source": [
    "'''\n",
    "from google.colab import drive\n",
    "drive.mount('/content/gdrive')\n",
    "'''\n",
    "\n",
    "data_dir = \"/Users/krishnagupta/Desktop/updated_training_file/\""
   ]
  },
  {
   "cell_type": "code",
   "execution_count": null,
   "id": "04842305",
   "metadata": {
    "colab": {
     "background_save": true
    },
    "id": "04842305"
   },
   "outputs": [],
   "source": []
  },
  {
   "cell_type": "code",
   "execution_count": 55,
   "id": "f970d016",
   "metadata": {
    "colab": {
     "background_save": true
    },
    "id": "f970d016"
   },
   "outputs": [],
   "source": [
    "df = pd.read_csv(data_dir + \"1A1M_test_df.csv\", engine=\"python\")"
   ]
  },
  {
   "cell_type": "code",
   "execution_count": 56,
   "id": "ba36cb94",
   "metadata": {
    "colab": {
     "background_save": true
    },
    "id": "ba36cb94"
   },
   "outputs": [
    {
     "data": {
      "text/plain": [
       "((83400, 18), (26, 1))"
      ]
     },
     "execution_count": 56,
     "metadata": {},
     "output_type": "execute_result"
    }
   ],
   "source": [
    "df = pd.read_csv(data_dir + \"1A1M_test_df.csv\", engine= 'python')\n",
    "\n",
    "df_x = (df[[\"cmi.m$value\",\"cc.m$value\",\"cp.m$value\",\"cp1.m$value\", \"cp2.m$value\",\"hcm.m$value\",\"rsa.m$value\",\n",
    "            \"scm.m$value\",\"ssp.m$value\", \"ecc.m$value\", \"ecmi.m$value\", \"ecp.m$value\", \"ecp1.m$value\", \"ecp2.m$value\", \"ehcm.m$value\", \"ersa.m$value\", \"escm.m$value\", \"essp.m$value\"]])\n",
    "\n",
    "df_y = (df[[\"inf.m$value\"]])\n",
    "\n",
    "df_x.shape, df_y[df_y[\"inf.m$value\"] == 1].shape"
   ]
  },
  {
   "cell_type": "code",
   "execution_count": 57,
   "id": "c8352680",
   "metadata": {
    "colab": {
     "background_save": true
    },
    "id": "c8352680"
   },
   "outputs": [
    {
     "data": {
      "text/plain": [
       "['0', '1']"
      ]
     },
     "execution_count": 57,
     "metadata": {},
     "output_type": "execute_result"
    }
   ],
   "source": [
    "cls = [str(v) for v in sorted(df['inf.m$value'].unique())]\n",
    "cls"
   ]
  },
  {
   "cell_type": "code",
   "execution_count": 58,
   "id": "8ac850f3",
   "metadata": {
    "colab": {
     "background_save": true
    },
    "id": "8ac850f3",
    "scrolled": true
   },
   "outputs": [
    {
     "name": "stdout",
     "output_type": "stream",
     "text": [
      "'/Users/krishnagupta/Desktop/updated_training_file/2BVP_test_df.csv' file read with 36 True\n",
      "'/Users/krishnagupta/Desktop/updated_training_file/2xpx_test_df.csv' file read with 65 True\n",
      "'/Users/krishnagupta/Desktop/updated_training_file/7uc5_test_df.csv' file read with 28 True\n",
      "'/Users/krishnagupta/Desktop/updated_training_file/test_df_6JO8.csv' file read with 16 True\n",
      "'/Users/krishnagupta/Desktop/updated_training_file/7B7N_test_df.csv' file read with 9 True\n",
      "'/Users/krishnagupta/Desktop/updated_training_file/8cmi_test_df.csv' file read with 24 True\n",
      "'/Users/krishnagupta/Desktop/updated_training_file/5TEZ_test_df.csv' file read with 24 True\n",
      "'/Users/krishnagupta/Desktop/updated_training_file/7NTJ_test_df.csv' file read with 3 True\n",
      "'/Users/krishnagupta/Desktop/updated_training_file/7QS8_test_df.csv' file read with 29 True\n",
      "'/Users/krishnagupta/Desktop/updated_training_file/7D7S_test_df.csv' file read with 21 True\n",
      "'/Users/krishnagupta/Desktop/updated_training_file/6BVV_test_df.csv' file read with 92 True\n",
      "'/Users/krishnagupta/Desktop/updated_training_file/4U0C_test_df.csv' file read with 20 True\n",
      "'/Users/krishnagupta/Desktop/updated_training_file/7RBR_test_df.csv' file read with 21 True\n",
      "'/Users/krishnagupta/Desktop/updated_training_file/3TO2_test_df.csv' file read with 49 True\n",
      "'/Users/krishnagupta/Desktop/updated_training_file/4U5W_test_df.csv' file read with 23 True\n",
      "'/Users/krishnagupta/Desktop/updated_training_file/7XWA_test_df.csv' file read with 58 True\n",
      "'/Users/krishnagupta/Desktop/updated_training_file/2AXG_test_df.csv' file read with 53 True\n",
      "'/Users/krishnagupta/Desktop/updated_training_file/7M4R_test_df.csv' file read with 32 True\n",
      "'/Users/krishnagupta/Desktop/updated_training_file/6J2A_test_df.csv' file read with 33 True\n",
      "'/Users/krishnagupta/Desktop/updated_training_file/7jjc_test_df.csv' file read with 10 True\n",
      "'/Users/krishnagupta/Desktop/updated_training_file/6I2M_test_df.csv' file read with 61 True\n",
      "'/Users/krishnagupta/Desktop/updated_training_file/7qik_test_df.csv' file read with 22 True\n",
      "'/Users/krishnagupta/Desktop/updated_training_file/7TUQ_test_df.csv' file read with 5 True\n",
      "'/Users/krishnagupta/Desktop/updated_training_file/1A1M_test_df.csv' file read with 26 True\n",
      "'/Users/krishnagupta/Desktop/updated_training_file/5IRO_test_df.csv' file read with 55 True\n",
      "'/Users/krishnagupta/Desktop/updated_training_file/7t2u_test_df.csv' file read with 1 True\n",
      "'/Users/krishnagupta/Desktop/updated_training_file/2RHK_test_df.csv' file read with 33 True\n",
      "'/Users/krishnagupta/Desktop/updated_training_file/7WBL_test_df.csv' file read with 46 True\n",
      "'/Users/krishnagupta/Desktop/updated_training_file/2X4R_test_df.csv' file read with 46 True\n",
      "'/Users/krishnagupta/Desktop/updated_training_file/5WJN_test_df.csv' file read with 37 True\n",
      "'/Users/krishnagupta/Desktop/updated_training_file/3REA_test_df.csv' file read with 23 True\n",
      "'/Users/krishnagupta/Desktop/updated_training_file/2BST_test_df.csv' file read with 19 True\n",
      "'/Users/krishnagupta/Desktop/updated_training_file/6E5U_test_df.csv' file read with 12 True\n",
      "'/Users/krishnagupta/Desktop/updated_training_file/test_df_5I22.csv' file read with 16 True\n",
      "'/Users/krishnagupta/Desktop/updated_training_file/2JDQ_test_df.csv' file read with 68 True\n",
      "'/Users/krishnagupta/Desktop/updated_training_file/5TL6_test_df.csv' file read with 45 True\n",
      "'/Users/krishnagupta/Desktop/updated_training_file/4ZNY_test_df.csv' file read with 38 True\n",
      "'/Users/krishnagupta/Desktop/updated_training_file/7OPL_test_df.csv' file read with 35 True\n",
      "'/Users/krishnagupta/Desktop/updated_training_file/8D35_test_df.csv' file read with 52 True\n",
      "'/Users/krishnagupta/Desktop/updated_training_file/7WBQ_test_df.csv' file read with 59 True\n",
      "'/Users/krishnagupta/Desktop/updated_training_file/test_df_5FW5.csv' file read with 41 True\n",
      "'/Users/krishnagupta/Desktop/updated_training_file/7WLP_test_df.csv' file read with 21 True\n",
      "'/Users/krishnagupta/Desktop/updated_training_file/1im3_test_df.csv' file read with 43 True\n",
      "'/Users/krishnagupta/Desktop/updated_training_file/1Q94_test_df.csv' file read with 22 True\n",
      "'/Users/krishnagupta/Desktop/updated_training_file/7sn0_test_df.csv' file read with 44 True\n",
      "'/Users/krishnagupta/Desktop/updated_training_file/6xqi_test_df.csv' file read with 14 True\n",
      "'/Users/krishnagupta/Desktop/updated_training_file/5UL6_test_df.csv' file read with 14 True\n",
      "'/Users/krishnagupta/Desktop/updated_training_file/7T0O_test_df.csv' file read with 21 True\n",
      "'/Users/krishnagupta/Desktop/updated_training_file/7MKB_test_df.csv' file read with 34 True\n",
      "'/Users/krishnagupta/Desktop/updated_training_file/3MRM_test_df.csv' file read with 50 True\n",
      "'/Users/krishnagupta/Desktop/updated_training_file/4lqw_test_df.csv' file read with 13 True\n",
      "'/Users/krishnagupta/Desktop/updated_training_file/7JYW_test_df.csv' file read with 26 True\n",
      "'/Users/krishnagupta/Desktop/updated_training_file/7SUO_test_df.csv' file read with 26 True\n",
      "'/Users/krishnagupta/Desktop/updated_training_file/7EKF_test_df.csv' file read with 61 True\n",
      "'/Users/krishnagupta/Desktop/updated_training_file/7whh_test_df.csv' file read with 53 True\n",
      "'/Users/krishnagupta/Desktop/updated_training_file/test_df_3w39.csv' file read with 26 True\n",
      "'/Users/krishnagupta/Desktop/updated_training_file/6yxj_test_df.csv' file read with 34 True\n",
      "'/Users/krishnagupta/Desktop/updated_training_file/7VX9_test_df.csv' file read with 61 True\n",
      "'/Users/krishnagupta/Desktop/updated_training_file/7KDT_test_df.csv' file read with 104 True\n",
      "'/Users/krishnagupta/Desktop/updated_training_file/7P9W_test_df.csv' file read with 61 True\n",
      "'/Users/krishnagupta/Desktop/updated_training_file/2vsm_test_df.csv' file read with 90 True\n",
      "'/Users/krishnagupta/Desktop/updated_training_file/4U0A_test_df.csv' file read with 30 True\n",
      "'/Users/krishnagupta/Desktop/updated_training_file/7WT4_test_df.csv' file read with 29 True\n",
      "'/Users/krishnagupta/Desktop/updated_training_file/7QTX_test_df.csv' file read with 70 True\n",
      "'/Users/krishnagupta/Desktop/updated_training_file/2X4S_test_df.csv' file read with 31 True\n",
      "'/Users/krishnagupta/Desktop/updated_training_file/5HDA_test_df.csv' file read with 22 True\n",
      "'/Users/krishnagupta/Desktop/updated_training_file/7F90_test_df.csv' file read with 30 True\n",
      "'/Users/krishnagupta/Desktop/updated_training_file/4i48_test_df.csv' file read with 27 True\n",
      "'/Users/krishnagupta/Desktop/updated_training_file/4FA8_test_df.csv' file read with 12 True\n",
      "'/Users/krishnagupta/Desktop/updated_training_file/2MA9_test_df.csv' file read with 9 True\n"
     ]
    }
   ],
   "source": [
    "file_list = glob.glob(data_dir + \"*.csv\")\n",
    "\n",
    "for file_name in file_list:\n",
    "\n",
    "        df_temp = pd.read_csv(file_name)\n",
    "        df_xn = (df_temp[[\"cmi.m$value\",\"cc.m$value\",\"cp.m$value\",\"cp1.m$value\", \"cp2.m$value\",\"hcm.m$value\",\"rsa.m$value\", \"scm.m$value\",\"ssp.m$value\", \"ecc.m$value\", \"ecmi.m$value\", \"ecp.m$value\", \"ecp1.m$value\", \"ecp2.m$value\", \"ehcm.m$value\", \"ersa.m$value\", \"escm.m$value\", \"essp.m$value\"]])\n",
    "\n",
    "        df_yn = (df_temp[[\"inf.m$value\"]])\n",
    "        df_x = pd.concat([df_x,df_xn])\n",
    "        df_y = pd.concat([df_y,df_yn])\n",
    "        print(\"'%-40s' file read with %i True\" %(file_name, df_temp[df_temp[\"inf.m$value\"] == 1].shape[0]))\n",
    "\n"
   ]
  },
  {
   "cell_type": "code",
   "execution_count": null,
   "id": "a8e4afab",
   "metadata": {},
   "outputs": [],
   "source": []
  },
  {
   "cell_type": "code",
   "execution_count": 59,
   "id": "bjPAH_3S1jJI",
   "metadata": {
    "colab": {
     "background_save": true
    },
    "id": "bjPAH_3S1jJI"
   },
   "outputs": [],
   "source": [
    "'''over = RandomOverSampler(sampling_strategy='minority', random_state=42)'''\n",
    "from imblearn.over_sampling import SMOTE\n",
    "over=SMOTE(random_state=42)\n",
    "x_under, y_under = over.fit_resample(df_x, df_y)"
   ]
  },
  {
   "cell_type": "code",
   "execution_count": 60,
   "id": "906d39e4",
   "metadata": {
    "colab": {
     "background_save": true
    },
    "id": "906d39e4"
   },
   "outputs": [
    {
     "data": {
      "text/plain": [
       "'scaler = StandardScaler().fit(x_under)\\nrescaledX = scaler.transform(x_under)'"
      ]
     },
     "execution_count": 60,
     "metadata": {},
     "output_type": "execute_result"
    }
   ],
   "source": [
    "'''scaler = StandardScaler().fit(x_under)\n",
    "rescaledX = scaler.transform(x_under)'''"
   ]
  },
  {
   "cell_type": "code",
   "execution_count": null,
   "id": "e91c28d9",
   "metadata": {},
   "outputs": [],
   "source": []
  },
  {
   "cell_type": "code",
   "execution_count": 61,
   "id": "479d6227",
   "metadata": {
    "colab": {
     "background_save": true
    },
    "id": "479d6227"
   },
   "outputs": [],
   "source": [
    "X_train, X_test, y_train, y_test = train_test_split(x_under, y_under, train_size=0.80, test_size=0.20, shuffle= True,  random_state=42)"
   ]
  },
  {
   "cell_type": "code",
   "execution_count": 62,
   "id": "1dcca8cb",
   "metadata": {},
   "outputs": [
    {
     "data": {
      "text/plain": [
       "'from sklearn.feature_selection import mutual_info_classif\\nmutual_info = mutual_info_classif(X_train, y_train)\\nmutual_info\\nfrom sklearn.feature_selection import SelectKBest\\n#Now we Will select the top 7 important features\\nsel_five_cols = SelectKBest(mutual_info_classif, k=7)\\nsel_five_cols.fit(X_train, y_train)\\nX_train.columns[sel_five_cols.get_support()]'"
      ]
     },
     "execution_count": 62,
     "metadata": {},
     "output_type": "execute_result"
    }
   ],
   "source": [
    "'''from sklearn.feature_selection import mutual_info_classif\n",
    "mutual_info = mutual_info_classif(X_train, y_train)\n",
    "mutual_info\n",
    "from sklearn.feature_selection import SelectKBest\n",
    "#Now we Will select the top 7 important features\n",
    "sel_five_cols = SelectKBest(mutual_info_classif, k=7)\n",
    "sel_five_cols.fit(X_train, y_train)\n",
    "X_train.columns[sel_five_cols.get_support()]'''"
   ]
  },
  {
   "cell_type": "code",
   "execution_count": 63,
   "id": "a8d4af75-3803-4e27-aec3-1000627dbcf0",
   "metadata": {},
   "outputs": [
    {
     "data": {
      "text/plain": [
       "'X_train.drop([\"cmi.m$value\",\"cc.m$value\",\"cp.m$value\",\"cp1.m$value\",\"cp2.m$value\",\"hcm.m$value\",\"rsa.m$value\",\"scm.m$value\",\"ssp.m$value\",\"ersa.m$value\", \"essp.m$value\"],axis=1,inplace=True)'"
      ]
     },
     "execution_count": 63,
     "metadata": {},
     "output_type": "execute_result"
    }
   ],
   "source": [
    "'''X_train.drop([\"cmi.m$value\",\"cc.m$value\",\"cp.m$value\",\"cp1.m$value\",\"cp2.m$value\",\"hcm.m$value\",\"rsa.m$value\",\"scm.m$value\",\"ssp.m$value\",\"ersa.m$value\", \"essp.m$value\"],axis=1,inplace=True)'''"
   ]
  },
  {
   "cell_type": "code",
   "execution_count": 64,
   "id": "5f4003db-0f29-4482-96a8-4e0bc277f2fa",
   "metadata": {},
   "outputs": [
    {
     "data": {
      "text/plain": [
       "'X_test.drop([\"cmi.m$value\",\"cc.m$value\",\"cp.m$value\",\"cp1.m$value\",\"cp2.m$value\",\"hcm.m$value\",\"rsa.m$value\",\"scm.m$value\",\"ssp.m$value\",\"ersa.m$value\", \"essp.m$value\"],axis=1,inplace=True)'"
      ]
     },
     "execution_count": 64,
     "metadata": {},
     "output_type": "execute_result"
    }
   ],
   "source": [
    "'''X_test.drop([\"cmi.m$value\",\"cc.m$value\",\"cp.m$value\",\"cp1.m$value\",\"cp2.m$value\",\"hcm.m$value\",\"rsa.m$value\",\"scm.m$value\",\"ssp.m$value\",\"ersa.m$value\", \"essp.m$value\"],axis=1,inplace=True)'''"
   ]
  },
  {
   "cell_type": "code",
   "execution_count": 65,
   "id": "1905e2d3",
   "metadata": {
    "colab": {
     "background_save": true
    },
    "id": "1905e2d3"
   },
   "outputs": [
    {
     "data": {
      "text/plain": [
       "{0: 1144994, 1: 1144643}"
      ]
     },
     "execution_count": 65,
     "metadata": {},
     "output_type": "execute_result"
    }
   ],
   "source": [
    "unique, counts = np.unique(y_test, return_counts=True)\n",
    "dict(zip(unique, counts))"
   ]
  },
  {
   "cell_type": "code",
   "execution_count": 66,
   "id": "678d43f6",
   "metadata": {
    "colab": {
     "background_save": true
    },
    "id": "678d43f6"
   },
   "outputs": [],
   "source": [
    "sdscaler = StandardScaler()\n",
    "\n",
    "X_train_sd = sdscaler.fit_transform(X_train)\n",
    "X_test_sd = sdscaler.fit_transform(X_test)"
   ]
  },
  {
   "cell_type": "code",
   "execution_count": 67,
   "id": "scFHUMcy36XQ",
   "metadata": {
    "colab": {
     "background_save": true
    },
    "id": "scFHUMcy36XQ"
   },
   "outputs": [
    {
     "name": "stdout",
     "output_type": "stream",
     "text": [
      "Requirement already satisfied: keras in /opt/anaconda3/lib/python3.12/site-packages (3.6.0)\n",
      "Requirement already satisfied: absl-py in /opt/anaconda3/lib/python3.12/site-packages (from keras) (2.1.0)\n",
      "Requirement already satisfied: numpy in /opt/anaconda3/lib/python3.12/site-packages (from keras) (1.26.4)\n",
      "Requirement already satisfied: rich in /opt/anaconda3/lib/python3.12/site-packages (from keras) (13.3.5)\n",
      "Requirement already satisfied: namex in /opt/anaconda3/lib/python3.12/site-packages (from keras) (0.0.8)\n",
      "Requirement already satisfied: h5py in /opt/anaconda3/lib/python3.12/site-packages (from keras) (3.11.0)\n",
      "Requirement already satisfied: optree in /opt/anaconda3/lib/python3.12/site-packages (from keras) (0.13.1)\n",
      "Requirement already satisfied: ml-dtypes in /opt/anaconda3/lib/python3.12/site-packages (from keras) (0.4.1)\n",
      "Requirement already satisfied: packaging in /opt/anaconda3/lib/python3.12/site-packages (from keras) (23.2)\n",
      "Requirement already satisfied: typing-extensions>=4.5.0 in /opt/anaconda3/lib/python3.12/site-packages (from optree->keras) (4.11.0)\n",
      "Requirement already satisfied: markdown-it-py<3.0.0,>=2.2.0 in /opt/anaconda3/lib/python3.12/site-packages (from rich->keras) (2.2.0)\n",
      "Requirement already satisfied: pygments<3.0.0,>=2.13.0 in /opt/anaconda3/lib/python3.12/site-packages (from rich->keras) (2.15.1)\n",
      "Requirement already satisfied: mdurl~=0.1 in /opt/anaconda3/lib/python3.12/site-packages (from markdown-it-py<3.0.0,>=2.2.0->rich->keras) (0.1.0)\n"
     ]
    }
   ],
   "source": [
    "!pip install keras"
   ]
  },
  {
   "cell_type": "code",
   "execution_count": 68,
   "id": "c125942b",
   "metadata": {
    "colab": {
     "background_save": true
    },
    "id": "c125942b"
   },
   "outputs": [
    {
     "name": "stderr",
     "output_type": "stream",
     "text": [
      "/opt/anaconda3/lib/python3.12/site-packages/keras/src/layers/core/dense.py:87: UserWarning: Do not pass an `input_shape`/`input_dim` argument to a layer. When using Sequential models, prefer using an `Input(shape)` object as the first layer in the model instead.\n",
      "  super().__init__(activity_regularizer=activity_regularizer, **kwargs)\n"
     ]
    }
   ],
   "source": [
    "# define model\n",
    "model = Sequential()\n",
    "model.add(Dense(18, input_dim=18, activation='relu', kernel_initializer='he_uniform'))\n",
    "keras.layers.Dropout(0.7, noise_shape=None, seed=None)\n",
    "model.add(Dense(16, activation='relu'))\n",
    "keras.layers.Dropout(0.8, noise_shape=None, seed=None)\n",
    "model.add(Dense(14, activation='relu'))\n",
    "model.add(Dense(12, activation='relu'))\n",
    "model.add(Dense(6, activation='relu'))\n",
    "model.add(Dense(8, activation='relu'))\n",
    "model.add(Dense(1, activation='sigmoid'))\n",
    "import keras\n",
    "opt = keras.optimizers.Adam(learning_rate=0.001)\n",
    "model.compile(loss='binary_crossentropy', optimizer=opt, metrics=['accuracy'])"
   ]
  },
  {
   "cell_type": "code",
   "execution_count": 69,
   "id": "0fd40d0d",
   "metadata": {
    "colab": {
     "background_save": true
    },
    "id": "0fd40d0d"
   },
   "outputs": [
    {
     "name": "stdout",
     "output_type": "stream",
     "text": [
      "{0: 4579097, 1: 4579448}\n",
      "{0: 1144994, 1: 1144643}\n"
     ]
    }
   ],
   "source": [
    "unique, counts = np.unique(y_train, return_counts=True)\n",
    "print(dict(zip(unique, counts)))\n",
    "unique, counts = np.unique(y_test, return_counts=True)\n",
    "print(dict(zip(unique, counts)))"
   ]
  },
  {
   "cell_type": "code",
   "execution_count": 70,
   "id": "cdba2a2f",
   "metadata": {
    "colab": {
     "background_save": true
    },
    "id": "cdba2a2f",
    "scrolled": true
   },
   "outputs": [
    {
     "name": "stdout",
     "output_type": "stream",
     "text": [
      "Epoch 1/100\n",
      "\u001b[1m143103/143103\u001b[0m \u001b[32m━━━━━━━━━━━━━━━━━━━━\u001b[0m\u001b[37m\u001b[0m \u001b[1m43s\u001b[0m 293us/step - accuracy: 0.7917 - loss: 0.4299 - val_accuracy: 0.8343 - val_loss: 0.3653\n",
      "Epoch 2/100\n",
      "\u001b[1m143103/143103\u001b[0m \u001b[32m━━━━━━━━━━━━━━━━━━━━\u001b[0m\u001b[37m\u001b[0m \u001b[1m43s\u001b[0m 297us/step - accuracy: 0.8361 - loss: 0.3608 - val_accuracy: 0.8440 - val_loss: 0.3492\n",
      "Epoch 3/100\n",
      "\u001b[1m143103/143103\u001b[0m \u001b[32m━━━━━━━━━━━━━━━━━━━━\u001b[0m\u001b[37m\u001b[0m \u001b[1m43s\u001b[0m 297us/step - accuracy: 0.8436 - loss: 0.3493 - val_accuracy: 0.8478 - val_loss: 0.3432\n",
      "Epoch 4/100\n",
      "\u001b[1m143103/143103\u001b[0m \u001b[32m━━━━━━━━━━━━━━━━━━━━\u001b[0m\u001b[37m\u001b[0m \u001b[1m43s\u001b[0m 297us/step - accuracy: 0.8471 - loss: 0.3438 - val_accuracy: 0.8484 - val_loss: 0.3412\n",
      "Epoch 5/100\n",
      "\u001b[1m143103/143103\u001b[0m \u001b[32m━━━━━━━━━━━━━━━━━━━━\u001b[0m\u001b[37m\u001b[0m \u001b[1m43s\u001b[0m 298us/step - accuracy: 0.8487 - loss: 0.3403 - val_accuracy: 0.8485 - val_loss: 0.3402\n",
      "Epoch 6/100\n",
      "\u001b[1m143103/143103\u001b[0m \u001b[32m━━━━━━━━━━━━━━━━━━━━\u001b[0m\u001b[37m\u001b[0m \u001b[1m43s\u001b[0m 299us/step - accuracy: 0.8500 - loss: 0.3385 - val_accuracy: 0.8513 - val_loss: 0.3375\n",
      "Epoch 7/100\n",
      "\u001b[1m143103/143103\u001b[0m \u001b[32m━━━━━━━━━━━━━━━━━━━━\u001b[0m\u001b[37m\u001b[0m \u001b[1m43s\u001b[0m 300us/step - accuracy: 0.8504 - loss: 0.3375 - val_accuracy: 0.8508 - val_loss: 0.3362\n",
      "Epoch 8/100\n",
      "\u001b[1m143103/143103\u001b[0m \u001b[32m━━━━━━━━━━━━━━━━━━━━\u001b[0m\u001b[37m\u001b[0m \u001b[1m43s\u001b[0m 299us/step - accuracy: 0.8507 - loss: 0.3369 - val_accuracy: 0.8484 - val_loss: 0.3479\n",
      "Epoch 9/100\n",
      "\u001b[1m143103/143103\u001b[0m \u001b[32m━━━━━━━━━━━━━━━━━━━━\u001b[0m\u001b[37m\u001b[0m \u001b[1m43s\u001b[0m 300us/step - accuracy: 0.8513 - loss: 0.3360 - val_accuracy: 0.8515 - val_loss: 0.3364\n",
      "Epoch 10/100\n",
      "\u001b[1m143103/143103\u001b[0m \u001b[32m━━━━━━━━━━━━━━━━━━━━\u001b[0m\u001b[37m\u001b[0m \u001b[1m43s\u001b[0m 299us/step - accuracy: 0.8522 - loss: 0.3351 - val_accuracy: 0.8530 - val_loss: 0.3353\n",
      "Epoch 11/100\n",
      "\u001b[1m143103/143103\u001b[0m \u001b[32m━━━━━━━━━━━━━━━━━━━━\u001b[0m\u001b[37m\u001b[0m \u001b[1m43s\u001b[0m 299us/step - accuracy: 0.8525 - loss: 0.3345 - val_accuracy: 0.8518 - val_loss: 0.3352\n",
      "Epoch 12/100\n",
      "\u001b[1m143103/143103\u001b[0m \u001b[32m━━━━━━━━━━━━━━━━━━━━\u001b[0m\u001b[37m\u001b[0m \u001b[1m43s\u001b[0m 299us/step - accuracy: 0.8528 - loss: 0.3340 - val_accuracy: 0.8541 - val_loss: 0.3321\n",
      "Epoch 13/100\n",
      "\u001b[1m143103/143103\u001b[0m \u001b[32m━━━━━━━━━━━━━━━━━━━━\u001b[0m\u001b[37m\u001b[0m \u001b[1m43s\u001b[0m 300us/step - accuracy: 0.8534 - loss: 0.3335 - val_accuracy: 0.8528 - val_loss: 0.3345\n",
      "Epoch 14/100\n",
      "\u001b[1m143103/143103\u001b[0m \u001b[32m━━━━━━━━━━━━━━━━━━━━\u001b[0m\u001b[37m\u001b[0m \u001b[1m43s\u001b[0m 301us/step - accuracy: 0.8536 - loss: 0.3328 - val_accuracy: 0.8530 - val_loss: 0.3341\n",
      "Epoch 15/100\n",
      "\u001b[1m143103/143103\u001b[0m \u001b[32m━━━━━━━━━━━━━━━━━━━━\u001b[0m\u001b[37m\u001b[0m \u001b[1m43s\u001b[0m 303us/step - accuracy: 0.8538 - loss: 0.3327 - val_accuracy: 0.8535 - val_loss: 0.3321\n",
      "Epoch 16/100\n",
      "\u001b[1m143103/143103\u001b[0m \u001b[32m━━━━━━━━━━━━━━━━━━━━\u001b[0m\u001b[37m\u001b[0m \u001b[1m43s\u001b[0m 302us/step - accuracy: 0.8540 - loss: 0.3325 - val_accuracy: 0.8549 - val_loss: 0.3319\n",
      "Epoch 17/100\n",
      "\u001b[1m143103/143103\u001b[0m \u001b[32m━━━━━━━━━━━━━━━━━━━━\u001b[0m\u001b[37m\u001b[0m \u001b[1m43s\u001b[0m 302us/step - accuracy: 0.8545 - loss: 0.3319 - val_accuracy: 0.8560 - val_loss: 0.3288\n",
      "Epoch 18/100\n",
      "\u001b[1m143103/143103\u001b[0m \u001b[32m━━━━━━━━━━━━━━━━━━━━\u001b[0m\u001b[37m\u001b[0m \u001b[1m43s\u001b[0m 302us/step - accuracy: 0.8545 - loss: 0.3318 - val_accuracy: 0.8539 - val_loss: 0.3324\n",
      "Epoch 19/100\n",
      "\u001b[1m143103/143103\u001b[0m \u001b[32m━━━━━━━━━━━━━━━━━━━━\u001b[0m\u001b[37m\u001b[0m \u001b[1m43s\u001b[0m 302us/step - accuracy: 0.8544 - loss: 0.3317 - val_accuracy: 0.8561 - val_loss: 0.3309\n",
      "Epoch 20/100\n",
      "\u001b[1m143103/143103\u001b[0m \u001b[32m━━━━━━━━━━━━━━━━━━━━\u001b[0m\u001b[37m\u001b[0m \u001b[1m43s\u001b[0m 303us/step - accuracy: 0.8547 - loss: 0.3313 - val_accuracy: 0.8559 - val_loss: 0.3292\n",
      "286205/286205 - 44s - 152us/step - accuracy: 0.8562 - loss: 0.3286\n",
      "71552/71552 - 11s - 152us/step - accuracy: 0.8559 - loss: 0.3292\n",
      "Train: 0.856, Test: 0.856\n"
     ]
    },
    {
     "data": {
      "image/png": "[encoded data removed]",
      "text/plain": [
       "<Figure size 800x550 with 2 Axes>"
      ]
     },
     "metadata": {},
     "output_type": "display_data"
    }
   ],
   "source": [
    "# fit model\n",
    "early_stopping_callback = tf.keras.callbacks.EarlyStopping(monitor='val_loss', patience=3)\n",
    "history = model.fit(X_train_sd, y_train, validation_data=(X_test_sd, y_test), epochs=100, verbose=1, batch_size=64, callbacks=[early_stopping_callback])\n",
    "#batch_size=len(y_train)\n",
    "# evaluate the model\n",
    "_, train_acc = model.evaluate(X_train_sd, y_train, verbose=2)\n",
    "_, test_acc = model.evaluate(X_test_sd, y_test, verbose=2)\n",
    "print('Train: %.3f, Test: %.3f' % (train_acc, test_acc))\n",
    "# plot loss during training\n",
    "pyplot.subplot(211)\n",
    "pyplot.title('Loss')\n",
    "pyplot.plot(history.history['loss'], label='train')\n",
    "pyplot.plot(history.history['val_loss'], label='test')\n",
    "pyplot.legend()\n",
    "# plot accuracy during training\n",
    "pyplot.subplot(212)\n",
    "pyplot.title('Accuracy')\n",
    "pyplot.plot(history.history['accuracy'], label='train')\n",
    "pyplot.plot(history.history['val_accuracy'], label='test')\n",
    "pyplot.legend()\n",
    "\n",
    "pyplot.savefig(\"Accuracy_Loss_with_environment.png\",dpi=1200)\n",
    "pyplot.show()"
   ]
  },
  {
   "cell_type": "code",
   "execution_count": 71,
   "id": "0ab9e534",
   "metadata": {
    "colab": {
     "background_save": true
    },
    "id": "0ab9e534"
   },
   "outputs": [
    {
     "name": "stdout",
     "output_type": "stream",
     "text": [
      "\u001b[1m71552/71552\u001b[0m \u001b[32m━━━━━━━━━━━━━━━━━━━━\u001b[0m\u001b[37m\u001b[0m \u001b[1m12s\u001b[0m 168us/step\n"
     ]
    },
    {
     "data": {
      "text/plain": [
       "array([[7.0119613e-01],\n",
       "       [1.3408477e-04],\n",
       "       [5.1144974e-07],\n",
       "       ...,\n",
       "       [4.1032778e-03],\n",
       "       [7.8816527e-01],\n",
       "       [3.3892547e-03]], dtype=float32)"
      ]
     },
     "execution_count": 71,
     "metadata": {},
     "output_type": "execute_result"
    }
   ],
   "source": [
    "y_pred=model.predict(X_test_sd)\n",
    "y_pred"
   ]
  },
  {
   "cell_type": "code",
   "execution_count": 72,
   "id": "c2be03ec",
   "metadata": {
    "colab": {
     "background_save": true
    },
    "id": "c2be03ec"
   },
   "outputs": [
    {
     "name": "stdout",
     "output_type": "stream",
     "text": [
      "The count of 1s 1321129\n",
      "The count of 0s 968508\n"
     ]
    }
   ],
   "source": [
    "li=[]\n",
    "\n",
    "\n",
    "\n",
    "for i in y_pred:\n",
    "    if i>=0.5:\n",
    "        li.append(1)\n",
    "    else:\n",
    "        li.append(0)\n",
    "\n",
    "print(\"The count of 1s\",li.count(1))\n",
    "print(\"The count of 0s\",li.count(0))"
   ]
  },
  {
   "cell_type": "code",
   "execution_count": 73,
   "id": "91057324",
   "metadata": {
    "colab": {
     "background_save": true
    },
    "id": "91057324",
    "scrolled": true
   },
   "outputs": [
    {
     "name": "stdout",
     "output_type": "stream",
     "text": [
      "              precision    recall  f1-score   support\n",
      "\n",
      "           0       0.92      0.78      0.84   1144994\n",
      "           1       0.81      0.93      0.87   1144643\n",
      "\n",
      "    accuracy                           0.86   2289637\n",
      "   macro avg       0.86      0.86      0.86   2289637\n",
      "weighted avg       0.86      0.86      0.86   2289637\n",
      "\n"
     ]
    }
   ],
   "source": [
    "y_pred=np.array(li)\n",
    "y_test=np.array(y_test)\n",
    "from sklearn.metrics import classification_report\n",
    "print(classification_report(y_test,y_pred,target_names=cls))"
   ]
  },
  {
   "cell_type": "code",
   "execution_count": 74,
   "id": "02b2198d",
   "metadata": {
    "colab": {
     "background_save": true
    },
    "id": "02b2198d",
    "scrolled": true
   },
   "outputs": [
    {
     "data": {
      "image/png": "[encoded data removed]",
      "text/plain": [
       "<Figure size 1000x800 with 2 Axes>"
      ]
     },
     "metadata": {},
     "output_type": "display_data"
    }
   ],
   "source": [
    "from sklearn.metrics import confusion_matrix\n",
    "cm = confusion_matrix(y_test,y_pred)\n",
    "\n",
    "fig, ax = plt.subplots(figsize=(10, 8))\n",
    "plt.xticks(fontsize=18)\n",
    "plt.yticks(fontsize=18)\n",
    "cmap = sns.cubehelix_palette(light=0.98, as_cmap=True)\n",
    "unsuv_cm = pd.DataFrame(cm)\n",
    "sns.heatmap(unsuv_cm, annot=True,annot_kws={\"size\": 16}, cmap=cmap, fmt='d')# font size\n",
    "plt.xlabel(\"Predicted Class\", fontsize=20, labelpad=20)\n",
    "plt.ylabel(\"True Class\", fontsize=20, labelpad=20)\n",
    "\n",
    "plt.savefig('confusion_matrix.png', dpi=1200)\n",
    "plt.show()"
   ]
  },
  {
   "cell_type": "code",
   "execution_count": 75,
   "id": "21e00048",
   "metadata": {
    "colab": {
     "background_save": true
    },
    "id": "21e00048"
   },
   "outputs": [
    {
     "name": "stdout",
     "output_type": "stream",
     "text": [
      "Requirement already satisfied: keras in /opt/anaconda3/lib/python3.12/site-packages (3.6.0)\n",
      "Requirement already satisfied: absl-py in /opt/anaconda3/lib/python3.12/site-packages (from keras) (2.1.0)\n",
      "Requirement already satisfied: numpy in /opt/anaconda3/lib/python3.12/site-packages (from keras) (1.26.4)\n",
      "Requirement already satisfied: rich in /opt/anaconda3/lib/python3.12/site-packages (from keras) (13.3.5)\n",
      "Requirement already satisfied: namex in /opt/anaconda3/lib/python3.12/site-packages (from keras) (0.0.8)\n",
      "Requirement already satisfied: h5py in /opt/anaconda3/lib/python3.12/site-packages (from keras) (3.11.0)\n",
      "Requirement already satisfied: optree in /opt/anaconda3/lib/python3.12/site-packages (from keras) (0.13.1)\n",
      "Requirement already satisfied: ml-dtypes in /opt/anaconda3/lib/python3.12/site-packages (from keras) (0.4.1)\n",
      "Requirement already satisfied: packaging in /opt/anaconda3/lib/python3.12/site-packages (from keras) (23.2)\n",
      "Requirement already satisfied: typing-extensions>=4.5.0 in /opt/anaconda3/lib/python3.12/site-packages (from optree->keras) (4.11.0)\n",
      "Requirement already satisfied: markdown-it-py<3.0.0,>=2.2.0 in /opt/anaconda3/lib/python3.12/site-packages (from rich->keras) (2.2.0)\n",
      "Requirement already satisfied: pygments<3.0.0,>=2.13.0 in /opt/anaconda3/lib/python3.12/site-packages (from rich->keras) (2.15.1)\n",
      "Requirement already satisfied: mdurl~=0.1 in /opt/anaconda3/lib/python3.12/site-packages (from markdown-it-py<3.0.0,>=2.2.0->rich->keras) (0.1.0)\n",
      "['confusion_matrix.png', 'Confusion_Matrix.jpg', 'Final_model2_script_Artificial_Neural_Network_code_cornea_27_06_2024_good_model_oversampling__updatedtrainingfile.ipynb', '.config', 'Music', 'Final_model1_script_Artificial_Neural_Network_code_cornea_15_04_2024_good_model_oversampling__updatedtrainingfile-Copy1_no_environment.ipynb', 'Untitled1.ipynb', '.DS_Store', '.CFUserTextEncoding', '.xonshrc', 'Untitled.ipynb', '.zshrc', 'Final_model1_script_Artificial_Neural_Network_code_cornea_15_04_2024_good_model_oversampling__updatedtrainingfile-Copy1.ipynb', 'Pictures', '.zprofile', 'ANN_model_oversampling_15_04_2024_testing.keras', '.zsh_history', '.ipython', 'Desktop', 'Library', '.matplotlib', 'Confusion_Matrix-Copy1.jpg', 'Public', '.tcshrc', 'Accuracy_Loss_with_environment.png', 'sklearn-env', 'without_environment_CM.png', 'Movies', '.Trash', '.ipynb_checkpoints', '.jupyter', '.keras', 'Accuracy_Loss_no_environment.png', 'Documents', '.bash_profile', 'Downloads', '.python_history', 'ANN_model_oversampling.weights.h5', '.zsh_sessions', '.conda']\n",
      "/Users/krishnagupta\n"
     ]
    }
   ],
   "source": [
    "!pip3 install keras\n",
    "import os\n",
    "print(os.listdir())\n",
    "model.save(\"Desktop/ANN_model_oversampling_15_04_2024_testing_7bestfeatures.keras\")\n",
    "model.save_weights(\"ANN_model_oversampling.weights.h5\")\n",
    "\n",
    "print(os.getcwd())"
   ]
  },
  {
   "cell_type": "code",
   "execution_count": 76,
   "id": "2dea2ba1",
   "metadata": {
    "colab": {
     "background_save": true
    },
    "id": "2dea2ba1"
   },
   "outputs": [
    {
     "ename": "FileNotFoundError",
     "evalue": "[Errno 2] No such file or directory: '/content/gdrive/MyDrive/Colab Notebooks/updated_training_file/1A1M_test_df.csv'",
     "output_type": "error",
     "traceback": [
      "\u001b[0;31m---------------------------------------------------------------------------\u001b[0m",
      "\u001b[0;31mFileNotFoundError\u001b[0m                         Traceback (most recent call last)",
      "Cell \u001b[0;32mIn[76], line 2\u001b[0m\n\u001b[1;32m      1\u001b[0m data_dir1\u001b[38;5;241m=\u001b[39m\u001b[38;5;124m\"\u001b[39m\u001b[38;5;124m/content/gdrive/MyDrive/Colab Notebooks/updated_training_file/\u001b[39m\u001b[38;5;124m\"\u001b[39m\n\u001b[0;32m----> 2\u001b[0m df1 \u001b[38;5;241m=\u001b[39m pd\u001b[38;5;241m.\u001b[39mread_csv(data_dir1 \u001b[38;5;241m+\u001b[39m\u001b[38;5;124m\"\u001b[39m\u001b[38;5;124m1A1M_test_df.csv\u001b[39m\u001b[38;5;124m\"\u001b[39m, engine\u001b[38;5;241m=\u001b[39m\u001b[38;5;124m\"\u001b[39m\u001b[38;5;124mpython\u001b[39m\u001b[38;5;124m\"\u001b[39m)\n",
      "File \u001b[0;32m/opt/anaconda3/lib/python3.12/site-packages/pandas/io/parsers/readers.py:1026\u001b[0m, in \u001b[0;36mread_csv\u001b[0;34m(filepath_or_buffer, sep, delimiter, header, names, index_col, usecols, dtype, engine, converters, true_values, false_values, skipinitialspace, skiprows, skipfooter, nrows, na_values, keep_default_na, na_filter, verbose, skip_blank_lines, parse_dates, infer_datetime_format, keep_date_col, date_parser, date_format, dayfirst, cache_dates, iterator, chunksize, compression, thousands, decimal, lineterminator, quotechar, quoting, doublequote, escapechar, comment, encoding, encoding_errors, dialect, on_bad_lines, delim_whitespace, low_memory, memory_map, float_precision, storage_options, dtype_backend)\u001b[0m\n\u001b[1;32m   1013\u001b[0m kwds_defaults \u001b[38;5;241m=\u001b[39m _refine_defaults_read(\n\u001b[1;32m   1014\u001b[0m     dialect,\n\u001b[1;32m   1015\u001b[0m     delimiter,\n\u001b[0;32m   (...)\u001b[0m\n\u001b[1;32m   1022\u001b[0m     dtype_backend\u001b[38;5;241m=\u001b[39mdtype_backend,\n\u001b[1;32m   1023\u001b[0m )\n\u001b[1;32m   1024\u001b[0m kwds\u001b[38;5;241m.\u001b[39mupdate(kwds_defaults)\n\u001b[0;32m-> 1026\u001b[0m \u001b[38;5;28;01mreturn\u001b[39;00m _read(filepath_or_buffer, kwds)\n",
      "File \u001b[0;32m/opt/anaconda3/lib/python3.12/site-packages/pandas/io/parsers/readers.py:620\u001b[0m, in \u001b[0;36m_read\u001b[0;34m(filepath_or_buffer, kwds)\u001b[0m\n\u001b[1;32m    617\u001b[0m _validate_names(kwds\u001b[38;5;241m.\u001b[39mget(\u001b[38;5;124m\"\u001b[39m\u001b[38;5;124mnames\u001b[39m\u001b[38;5;124m\"\u001b[39m, \u001b[38;5;28;01mNone\u001b[39;00m))\n\u001b[1;32m    619\u001b[0m \u001b[38;5;66;03m# Create the parser.\u001b[39;00m\n\u001b[0;32m--> 620\u001b[0m parser \u001b[38;5;241m=\u001b[39m TextFileReader(filepath_or_buffer, \u001b[38;5;241m*\u001b[39m\u001b[38;5;241m*\u001b[39mkwds)\n\u001b[1;32m    622\u001b[0m \u001b[38;5;28;01mif\u001b[39;00m chunksize \u001b[38;5;129;01mor\u001b[39;00m iterator:\n\u001b[1;32m    623\u001b[0m     \u001b[38;5;28;01mreturn\u001b[39;00m parser\n",
      "File \u001b[0;32m/opt/anaconda3/lib/python3.12/site-packages/pandas/io/parsers/readers.py:1620\u001b[0m, in \u001b[0;36mTextFileReader.__init__\u001b[0;34m(self, f, engine, **kwds)\u001b[0m\n\u001b[1;32m   1617\u001b[0m     \u001b[38;5;28mself\u001b[39m\u001b[38;5;241m.\u001b[39moptions[\u001b[38;5;124m\"\u001b[39m\u001b[38;5;124mhas_index_names\u001b[39m\u001b[38;5;124m\"\u001b[39m] \u001b[38;5;241m=\u001b[39m kwds[\u001b[38;5;124m\"\u001b[39m\u001b[38;5;124mhas_index_names\u001b[39m\u001b[38;5;124m\"\u001b[39m]\n\u001b[1;32m   1619\u001b[0m \u001b[38;5;28mself\u001b[39m\u001b[38;5;241m.\u001b[39mhandles: IOHandles \u001b[38;5;241m|\u001b[39m \u001b[38;5;28;01mNone\u001b[39;00m \u001b[38;5;241m=\u001b[39m \u001b[38;5;28;01mNone\u001b[39;00m\n\u001b[0;32m-> 1620\u001b[0m \u001b[38;5;28mself\u001b[39m\u001b[38;5;241m.\u001b[39m_engine \u001b[38;5;241m=\u001b[39m \u001b[38;5;28mself\u001b[39m\u001b[38;5;241m.\u001b[39m_make_engine(f, \u001b[38;5;28mself\u001b[39m\u001b[38;5;241m.\u001b[39mengine)\n",
      "File \u001b[0;32m/opt/anaconda3/lib/python3.12/site-packages/pandas/io/parsers/readers.py:1880\u001b[0m, in \u001b[0;36mTextFileReader._make_engine\u001b[0;34m(self, f, engine)\u001b[0m\n\u001b[1;32m   1878\u001b[0m     \u001b[38;5;28;01mif\u001b[39;00m \u001b[38;5;124m\"\u001b[39m\u001b[38;5;124mb\u001b[39m\u001b[38;5;124m\"\u001b[39m \u001b[38;5;129;01mnot\u001b[39;00m \u001b[38;5;129;01min\u001b[39;00m mode:\n\u001b[1;32m   1879\u001b[0m         mode \u001b[38;5;241m+\u001b[39m\u001b[38;5;241m=\u001b[39m \u001b[38;5;124m\"\u001b[39m\u001b[38;5;124mb\u001b[39m\u001b[38;5;124m\"\u001b[39m\n\u001b[0;32m-> 1880\u001b[0m \u001b[38;5;28mself\u001b[39m\u001b[38;5;241m.\u001b[39mhandles \u001b[38;5;241m=\u001b[39m get_handle(\n\u001b[1;32m   1881\u001b[0m     f,\n\u001b[1;32m   1882\u001b[0m     mode,\n\u001b[1;32m   1883\u001b[0m     encoding\u001b[38;5;241m=\u001b[39m\u001b[38;5;28mself\u001b[39m\u001b[38;5;241m.\u001b[39moptions\u001b[38;5;241m.\u001b[39mget(\u001b[38;5;124m\"\u001b[39m\u001b[38;5;124mencoding\u001b[39m\u001b[38;5;124m\"\u001b[39m, \u001b[38;5;28;01mNone\u001b[39;00m),\n\u001b[1;32m   1884\u001b[0m     compression\u001b[38;5;241m=\u001b[39m\u001b[38;5;28mself\u001b[39m\u001b[38;5;241m.\u001b[39moptions\u001b[38;5;241m.\u001b[39mget(\u001b[38;5;124m\"\u001b[39m\u001b[38;5;124mcompression\u001b[39m\u001b[38;5;124m\"\u001b[39m, \u001b[38;5;28;01mNone\u001b[39;00m),\n\u001b[1;32m   1885\u001b[0m     memory_map\u001b[38;5;241m=\u001b[39m\u001b[38;5;28mself\u001b[39m\u001b[38;5;241m.\u001b[39moptions\u001b[38;5;241m.\u001b[39mget(\u001b[38;5;124m\"\u001b[39m\u001b[38;5;124mmemory_map\u001b[39m\u001b[38;5;124m\"\u001b[39m, \u001b[38;5;28;01mFalse\u001b[39;00m),\n\u001b[1;32m   1886\u001b[0m     is_text\u001b[38;5;241m=\u001b[39mis_text,\n\u001b[1;32m   1887\u001b[0m     errors\u001b[38;5;241m=\u001b[39m\u001b[38;5;28mself\u001b[39m\u001b[38;5;241m.\u001b[39moptions\u001b[38;5;241m.\u001b[39mget(\u001b[38;5;124m\"\u001b[39m\u001b[38;5;124mencoding_errors\u001b[39m\u001b[38;5;124m\"\u001b[39m, \u001b[38;5;124m\"\u001b[39m\u001b[38;5;124mstrict\u001b[39m\u001b[38;5;124m\"\u001b[39m),\n\u001b[1;32m   1888\u001b[0m     storage_options\u001b[38;5;241m=\u001b[39m\u001b[38;5;28mself\u001b[39m\u001b[38;5;241m.\u001b[39moptions\u001b[38;5;241m.\u001b[39mget(\u001b[38;5;124m\"\u001b[39m\u001b[38;5;124mstorage_options\u001b[39m\u001b[38;5;124m\"\u001b[39m, \u001b[38;5;28;01mNone\u001b[39;00m),\n\u001b[1;32m   1889\u001b[0m )\n\u001b[1;32m   1890\u001b[0m \u001b[38;5;28;01massert\u001b[39;00m \u001b[38;5;28mself\u001b[39m\u001b[38;5;241m.\u001b[39mhandles \u001b[38;5;129;01mis\u001b[39;00m \u001b[38;5;129;01mnot\u001b[39;00m \u001b[38;5;28;01mNone\u001b[39;00m\n\u001b[1;32m   1891\u001b[0m f \u001b[38;5;241m=\u001b[39m \u001b[38;5;28mself\u001b[39m\u001b[38;5;241m.\u001b[39mhandles\u001b[38;5;241m.\u001b[39mhandle\n",
      "File \u001b[0;32m/opt/anaconda3/lib/python3.12/site-packages/pandas/io/common.py:873\u001b[0m, in \u001b[0;36mget_handle\u001b[0;34m(path_or_buf, mode, encoding, compression, memory_map, is_text, errors, storage_options)\u001b[0m\n\u001b[1;32m    868\u001b[0m \u001b[38;5;28;01melif\u001b[39;00m \u001b[38;5;28misinstance\u001b[39m(handle, \u001b[38;5;28mstr\u001b[39m):\n\u001b[1;32m    869\u001b[0m     \u001b[38;5;66;03m# Check whether the filename is to be opened in binary mode.\u001b[39;00m\n\u001b[1;32m    870\u001b[0m     \u001b[38;5;66;03m# Binary mode does not support 'encoding' and 'newline'.\u001b[39;00m\n\u001b[1;32m    871\u001b[0m     \u001b[38;5;28;01mif\u001b[39;00m ioargs\u001b[38;5;241m.\u001b[39mencoding \u001b[38;5;129;01mand\u001b[39;00m \u001b[38;5;124m\"\u001b[39m\u001b[38;5;124mb\u001b[39m\u001b[38;5;124m\"\u001b[39m \u001b[38;5;129;01mnot\u001b[39;00m \u001b[38;5;129;01min\u001b[39;00m ioargs\u001b[38;5;241m.\u001b[39mmode:\n\u001b[1;32m    872\u001b[0m         \u001b[38;5;66;03m# Encoding\u001b[39;00m\n\u001b[0;32m--> 873\u001b[0m         handle \u001b[38;5;241m=\u001b[39m \u001b[38;5;28mopen\u001b[39m(\n\u001b[1;32m    874\u001b[0m             handle,\n\u001b[1;32m    875\u001b[0m             ioargs\u001b[38;5;241m.\u001b[39mmode,\n\u001b[1;32m    876\u001b[0m             encoding\u001b[38;5;241m=\u001b[39mioargs\u001b[38;5;241m.\u001b[39mencoding,\n\u001b[1;32m    877\u001b[0m             errors\u001b[38;5;241m=\u001b[39merrors,\n\u001b[1;32m    878\u001b[0m             newline\u001b[38;5;241m=\u001b[39m\u001b[38;5;124m\"\u001b[39m\u001b[38;5;124m\"\u001b[39m,\n\u001b[1;32m    879\u001b[0m         )\n\u001b[1;32m    880\u001b[0m     \u001b[38;5;28;01melse\u001b[39;00m:\n\u001b[1;32m    881\u001b[0m         \u001b[38;5;66;03m# Binary mode\u001b[39;00m\n\u001b[1;32m    882\u001b[0m         handle \u001b[38;5;241m=\u001b[39m \u001b[38;5;28mopen\u001b[39m(handle, ioargs\u001b[38;5;241m.\u001b[39mmode)\n",
      "\u001b[0;31mFileNotFoundError\u001b[0m: [Errno 2] No such file or directory: '/content/gdrive/MyDrive/Colab Notebooks/updated_training_file/1A1M_test_df.csv'"
     ]
    }
   ],
   "source": [
    "data_dir1=\"/content/gdrive/MyDrive/Colab Notebooks/updated_training_file/\"\n",
    "df1 = pd.read_csv(data_dir1 +\"1A1M_test_df.csv\", engine=\"python\")"
   ]
  },
  {
   "cell_type": "code",
   "execution_count": null,
   "id": "140d1223",
   "metadata": {
    "colab": {
     "background_save": true
    },
    "id": "140d1223"
   },
   "outputs": [],
   "source": [
    "df = pd.read_csv(data_dir1 + \"1A1M_test_df.csv\", engine= 'python')\n",
    "\n",
    "df_x1 = (df[[\"cmi.m$value\",\"cc.m$value\",\"cp.m$value\",\"cp1.m$value\", \"cp2.m$value\",\"hcm.m$value\",\"rsa.m$value\",\n",
    "            \"scm.m$value\",\"ssp.m$value\", \"ecc.m$value\", \"ecmi.m$value\", \"ecp.m$value\", \"ecp1.m$value\", \"ecp2.m$value\", \"ehcm.m$value\", \"ersa.m$value\", \"escm.m$value\", \"essp.m$value\"]])\n",
    "\n",
    "\n",
    "df_y1 = (df[[\"inf.m$value\"]])\n",
    "\n",
    "df_x1.shape, df_y1[df_y1[\"inf.m$value\"] == 1].shape"
   ]
  },
  {
   "cell_type": "code",
   "execution_count": null,
   "id": "d07a69ea",
   "metadata": {
    "colab": {
     "background_save": true
    },
    "id": "d07a69ea"
   },
   "outputs": [],
   "source": [
    "xtest_1a1m = np.array(df_x1)\n",
    "ytest_1a1m = np.array(df_y1)\n",
    "rsc_xtest_1a1m = scaler.transform(xtest_1a1m)\n",
    "rsc_xtest_1a1m_sd = sdscaler.fit_transform(rsc_xtest_1a1m)\n",
    "ytest_1a1m = ytest_1a1m.ravel()\n",
    "ypred_1a1m = model.predict(rsc_xtest_1a1m_sd)\n",
    "ypred_1a1m"
   ]
  },
  {
   "cell_type": "code",
   "execution_count": null,
   "id": "7159d1a8",
   "metadata": {
    "colab": {
     "background_save": true
    },
    "id": "7159d1a8"
   },
   "outputs": [],
   "source": []
  },
  {
   "cell_type": "code",
   "execution_count": null,
   "id": "3c9e2711",
   "metadata": {
    "colab": {
     "background_save": true
    },
    "id": "3c9e2711"
   },
   "outputs": [],
   "source": [
    "li1=[]\n",
    "\n",
    "for i in ypred_1a1m:\n",
    "  if i>=0.5:\n",
    "    li1.append(1)\n",
    "  else:\n",
    "    li1.append(0)\n",
    "\n",
    "print(\"The count of 1s\",li1.count(1))\n",
    "print(\"The count of 0s\",li1.count(0))\n",
    "y_pred=np.array(li1)\n",
    "y_test=np.array(ytest_1a1m)\n",
    "from sklearn.metrics import classification_report\n",
    "print(classification_report(y_test,y_pred,target_names=cls))\n",
    "from sklearn.metrics import confusion_matrix\n",
    "cm = confusion_matrix(y_test,y_pred)\n",
    "fig, ax = plt.subplots(figsize=(10, 8))\n",
    "plt.xticks(fontsize=18)\n",
    "plt.yticks(fontsize=18)\n",
    "cmap = sns.cubehelix_palette(light=0.98, as_cmap=True)\n",
    "unsuv_cm = pd.DataFrame(cm)\n",
    "sns.heatmap(unsuv_cm, annot=True,annot_kws={\"size\": 16}, cmap=cmap, fmt='d')# font size\n",
    "plt.xlabel(\"Predicted Class\", fontsize=20, labelpad=20)\n",
    "plt.ylabel(\"True Class\", fontsize=20, labelpad=20)\n",
    "plt.show()"
   ]
  },
  {
   "cell_type": "code",
   "execution_count": null,
   "id": "f3G9N3NBjjTg",
   "metadata": {
    "colab": {
     "background_save": true
    },
    "id": "f3G9N3NBjjTg"
   },
   "outputs": [],
   "source": [
    "from sklearn.metrics import accuracy_score, roc_curve, roc_auc_score, auc\n",
    "fpr, tpr, threshold = roc_curve(y_test, y_pred)\n",
    "roc_auc = auc(fpr, tpr)\n",
    "auc_graph= plt.figure()\n",
    "plt.title('Receiver Operating Characteristic')\n",
    "plt.plot(fpr, tpr, 'b', label = 'AUC = %0.2f' % roc_auc)\n",
    "plt.legend(loc = 'lower right')\n",
    "plt.plot([0, 1], [0, 1],'r--')\n",
    "plt.xlim([0, 1])\n",
    "plt.ylim([0, 1])\n",
    "plt.ylabel('True Positive Rate')\n",
    "plt.xlabel('False Positive Rate')\n",
    "plt.show()"
   ]
  },
  {
   "cell_type": "code",
   "execution_count": null,
   "id": "A4AJUWYEMNVR",
   "metadata": {
    "colab": {
     "background_save": true
    },
    "id": "A4AJUWYEMNVR"
   },
   "outputs": [],
   "source": [
    "data_dir1=\"/content/gdrive/MyDrive/Colab Notebooks/training_files/\"\n",
    "df1 = pd.read_csv(data_dir1 +\"4i48_test_df.csv\", engine=\"python\")"
   ]
  },
  {
   "cell_type": "code",
   "execution_count": null,
   "id": "Olui2NGhMSgS",
   "metadata": {
    "colab": {
     "background_save": true
    },
    "id": "Olui2NGhMSgS"
   },
   "outputs": [],
   "source": [
    "df = pd.read_csv(data_dir1 + \"4i48_test_df.csv\", engine= 'python')\n",
    "\n",
    "df_x1 = (df[[\"cmi.m$value\",\"cc.m$value\",\"cp.m$value\",\"cp1.m$value\", \"cp2.m$value\",\"hcm.m$value\",\"rsa.m$value\",\n",
    "            \"scm.m$value\",\"ssp.m$value\", \"ecc.m$value\", \"ecmi.m$value\", \"ecp.m$value\", \"ecp1.m$value\", \"ecp2.m$value\", \"ehcm.m$value\", \"ersa.m$value\", \"escm.m$value\", \"essp.m$value\"]])\n",
    "\n",
    "\n",
    "df_y1 = (df[[\"inf.m$value\"]])\n",
    "\n",
    "df_x1.shape, df_y1[df_y1[\"inf.m$value\"] == 1].shape"
   ]
  },
  {
   "cell_type": "code",
   "execution_count": null,
   "id": "x4WBpaRZMdBB",
   "metadata": {
    "colab": {
     "background_save": true
    },
    "id": "x4WBpaRZMdBB"
   },
   "outputs": [],
   "source": [
    "xtest_4i48 = np.array(df_x1)\n",
    "ytest_4i48 = np.array(df_y1)\n",
    "rsc_xtest_4i48 = scaler.transform(xtest_4i48)\n",
    "rsc_xtest_4i48_sd = sdscaler.fit_transform(rsc_xtest_4i48)\n",
    "ytest_4i48 = ytest_4i48.ravel()\n",
    "ypred_4i48 = model.predict(rsc_xtest_4i48_sd)\n",
    "ypred_4i48"
   ]
  },
  {
   "cell_type": "code",
   "execution_count": null,
   "id": "GFN7VFOlNE9U",
   "metadata": {
    "colab": {
     "background_save": true
    },
    "id": "GFN7VFOlNE9U"
   },
   "outputs": [],
   "source": [
    "li1=[]\n",
    "\n",
    "for i in ypred_4i48:\n",
    "  if i>=0.5:\n",
    "    li1.append(1)\n",
    "  else:\n",
    "    li1.append(0)\n",
    "\n",
    "print(\"The count of 1s\",li1.count(1))\n",
    "print(\"The count of 0s\",li1.count(0))\n",
    "y_pred=np.array(li1)\n",
    "y_test=np.array(ytest_4i48)\n",
    "from sklearn.metrics import classification_report\n",
    "print(classification_report(y_test,y_pred,target_names=cls))\n",
    "from sklearn.metrics import confusion_matrix\n",
    "cm = confusion_matrix(y_test,y_pred)\n",
    "fig, ax = plt.subplots(figsize=(10, 8))\n",
    "plt.xticks(fontsize=18)\n",
    "plt.yticks(fontsize=18)\n",
    "cmap = sns.cubehelix_palette(light=0.98, as_cmap=True)\n",
    "unsuv_cm = pd.DataFrame(cm)\n",
    "sns.heatmap(unsuv_cm, annot=True,annot_kws={\"size\": 16}, cmap=cmap, fmt='d')# font size\n",
    "plt.xlabel(\"Predicted Class\", fontsize=20, labelpad=20)\n",
    "plt.ylabel(\"True Class\", fontsize=20, labelpad=20)\n",
    "plt.show()"
   ]
  },
  {
   "cell_type": "code",
   "execution_count": null,
   "id": "00MfY6k9bdoV",
   "metadata": {
    "colab": {
     "background_save": true
    },
    "id": "00MfY6k9bdoV"
   },
   "outputs": [],
   "source": [
    "from sklearn.metrics import accuracy_score, roc_curve, roc_auc_score, auc\n",
    "fpr, tpr, threshold = roc_curve(y_test, y_pred)\n",
    "roc_auc = auc(fpr, tpr)\n",
    "auc_graph= plt.figure()\n",
    "plt.title('Receiver Operating Characteristic')\n",
    "plt.plot(fpr, tpr, 'b', label = 'AUC = %0.2f' % roc_auc)\n",
    "plt.legend(loc = 'lower right')\n",
    "plt.plot([0, 1], [0, 1],'r--')\n",
    "plt.xlim([0, 1])\n",
    "plt.ylim([0, 1])\n",
    "plt.ylabel('True Positive Rate')\n",
    "plt.xlabel('False Positive Rate')\n",
    "plt.show()"
   ]
  }
 ],
 "metadata": {
  "accelerator": "TPU",
  "colab": {
   "gpuType": "V28",
   "provenance": []
  },
  "kernelspec": {
   "display_name": "Python 3 (ipykernel)",
   "language": "python",
   "name": "python3"
  },
  "language_info": {
   "codemirror_mode": {
    "name": "ipython",
    "version": 3
   },
   "file_extension": ".py",
   "mimetype": "text/x-python",
   "name": "python",
   "nbconvert_exporter": "python",
   "pygments_lexer": "ipython3",
   "version": "3.12.4"
  }
 },
 "nbformat": 4,
 "nbformat_minor": 5
}
