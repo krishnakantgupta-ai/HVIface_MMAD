{
 "cells": [
  {
   "cell_type": "code",
   "execution_count": 1,
   "id": "05ce5282",
   "metadata": {},
   "outputs": [
    {
     "ename": "ModuleNotFoundError",
     "evalue": "No module named 'keras'",
     "output_type": "error",
     "traceback": [
      "\u001b[0;31m---------------------------------------------------------------------------\u001b[0m",
      "\u001b[0;31mModuleNotFoundError\u001b[0m                       Traceback (most recent call last)",
      "Cell \u001b[0;32mIn[1], line 9\u001b[0m\n\u001b[1;32m      7\u001b[0m \u001b[38;5;28;01mfrom\u001b[39;00m \u001b[38;5;21;01mpandas\u001b[39;00m \u001b[38;5;28;01mimport\u001b[39;00m read_csv\n\u001b[1;32m      8\u001b[0m \u001b[38;5;28;01mfrom\u001b[39;00m \u001b[38;5;21;01mmatplotlib\u001b[39;00m \u001b[38;5;28;01mimport\u001b[39;00m pyplot\n\u001b[0;32m----> 9\u001b[0m \u001b[38;5;28;01mfrom\u001b[39;00m \u001b[38;5;21;01mkeras\u001b[39;00m\u001b[38;5;21;01m.\u001b[39;00m\u001b[38;5;21;01mmodels\u001b[39;00m \u001b[38;5;28;01mimport\u001b[39;00m Sequential\n\u001b[1;32m     10\u001b[0m \u001b[38;5;28;01mfrom\u001b[39;00m \u001b[38;5;21;01mkeras\u001b[39;00m\u001b[38;5;21;01m.\u001b[39;00m\u001b[38;5;21;01mlayers\u001b[39;00m \u001b[38;5;28;01mimport\u001b[39;00m Dense\n\u001b[1;32m     11\u001b[0m \u001b[38;5;28;01mfrom\u001b[39;00m \u001b[38;5;21;01mkeras\u001b[39;00m\u001b[38;5;21;01m.\u001b[39;00m\u001b[38;5;21;01mlayers\u001b[39;00m \u001b[38;5;28;01mimport\u001b[39;00m Flatten\n",
      "\u001b[0;31mModuleNotFoundError\u001b[0m: No module named 'keras'"
     ]
    }
   ],
   "source": [
    "# cnn model\n",
    "import pandas as pd\n",
    "import glob\n",
    "from numpy import mean\n",
    "from numpy import std\n",
    "from numpy import dstack\n",
    "from pandas import read_csv\n",
    "from matplotlib import pyplot\n",
    "from keras.models import Sequential\n",
    "from keras.layers import Dense\n",
    "from keras.layers import Flatten\n",
    "from keras.layers import Dropout\n",
    "from tensorflow.keras.layers import Conv1D\n",
    "from tensorflow.keras.layers import MaxPooling1D\n",
    "#from keras.layers.convolutional import Conv1D\n",
    "#from keras.layers.convolutional import MaxPooling1D\n",
    "from keras.utils import to_categorical"
   ]
  },
  {
   "cell_type": "code",
   "execution_count": 2,
   "id": "77a8bfe7-69a4-4c9e-9841-db72b299dad8",
   "metadata": {},
   "outputs": [],
   "source": [
    "data_dir = \"/Users/krishnagupta/Desktop/updated_training_file/\""
   ]
  },
  {
   "cell_type": "code",
   "execution_count": 3,
   "id": "26032a71",
   "metadata": {},
   "outputs": [
    {
     "data": {
      "text/plain": [
       "((83400, 18), (26, 1))"
      ]
     },
     "execution_count": 3,
     "metadata": {},
     "output_type": "execute_result"
    }
   ],
   "source": [
    "df = pd.read_csv(data_dir +\"1A1M_test_df.csv\", engine=\"python\")\n",
    "df = pd.read_csv(data_dir + \"1A1M_test_df.csv\", engine= 'python')\n",
    "\n",
    "df_x = (df[[\"cmi.m$value\",\"cc.m$value\",\"cp.m$value\",\"cp1.m$value\", \"cp2.m$value\",\"hcm.m$value\",\"rsa.m$value\",\n",
    "            \"scm.m$value\",\"ssp.m$value\", \"ecc.m$value\", \"ecmi.m$value\", \"ecp.m$value\", \"ecp1.m$value\", \"ecp2.m$value\", \"ehcm.m$value\", \"ersa.m$value\", \"escm.m$value\", \"essp.m$value\"]])\n",
    "\n",
    "df_y = (df[[\"inf.m$value\"]])\n",
    "\n",
    "df_x.shape, df_y[df_y[\"inf.m$value\"] == 1].shape"
   ]
  },
  {
   "cell_type": "code",
   "execution_count": 4,
   "id": "e9f20133",
   "metadata": {},
   "outputs": [
    {
     "data": {
      "text/plain": [
       "['0', '1']"
      ]
     },
     "execution_count": 4,
     "metadata": {},
     "output_type": "execute_result"
    }
   ],
   "source": [
    "cls = [str(v) for v in sorted(df['inf.m$value'].unique())]\n",
    "cls"
   ]
  },
  {
   "cell_type": "code",
   "execution_count": 5,
   "id": "d88c9df3",
   "metadata": {},
   "outputs": [
    {
     "name": "stdout",
     "output_type": "stream",
     "text": [
      "'/Users/krishnagupta/Desktop/updated_training_file/2BVP_test_df.csv' file read with 36 True\n",
      "'/Users/krishnagupta/Desktop/updated_training_file/2xpx_test_df.csv' file read with 65 True\n",
      "'/Users/krishnagupta/Desktop/updated_training_file/7uc5_test_df.csv' file read with 28 True\n",
      "'/Users/krishnagupta/Desktop/updated_training_file/test_df_6JO8.csv' file read with 16 True\n",
      "'/Users/krishnagupta/Desktop/updated_training_file/7B7N_test_df.csv' file read with 9 True\n",
      "'/Users/krishnagupta/Desktop/updated_training_file/8cmi_test_df.csv' file read with 24 True\n",
      "'/Users/krishnagupta/Desktop/updated_training_file/5TEZ_test_df.csv' file read with 24 True\n",
      "'/Users/krishnagupta/Desktop/updated_training_file/7NTJ_test_df.csv' file read with 3 True\n",
      "'/Users/krishnagupta/Desktop/updated_training_file/7QS8_test_df.csv' file read with 29 True\n",
      "'/Users/krishnagupta/Desktop/updated_training_file/7D7S_test_df.csv' file read with 21 True\n",
      "'/Users/krishnagupta/Desktop/updated_training_file/6BVV_test_df.csv' file read with 92 True\n",
      "'/Users/krishnagupta/Desktop/updated_training_file/4U0C_test_df.csv' file read with 20 True\n",
      "'/Users/krishnagupta/Desktop/updated_training_file/7RBR_test_df.csv' file read with 21 True\n",
      "'/Users/krishnagupta/Desktop/updated_training_file/3TO2_test_df.csv' file read with 49 True\n",
      "'/Users/krishnagupta/Desktop/updated_training_file/4U5W_test_df.csv' file read with 23 True\n",
      "'/Users/krishnagupta/Desktop/updated_training_file/7XWA_test_df.csv' file read with 58 True\n",
      "'/Users/krishnagupta/Desktop/updated_training_file/2AXG_test_df.csv' file read with 53 True\n",
      "'/Users/krishnagupta/Desktop/updated_training_file/7M4R_test_df.csv' file read with 32 True\n",
      "'/Users/krishnagupta/Desktop/updated_training_file/6J2A_test_df.csv' file read with 33 True\n",
      "'/Users/krishnagupta/Desktop/updated_training_file/7jjc_test_df.csv' file read with 10 True\n",
      "'/Users/krishnagupta/Desktop/updated_training_file/6I2M_test_df.csv' file read with 61 True\n",
      "'/Users/krishnagupta/Desktop/updated_training_file/7qik_test_df.csv' file read with 22 True\n",
      "'/Users/krishnagupta/Desktop/updated_training_file/7TUQ_test_df.csv' file read with 5 True\n",
      "'/Users/krishnagupta/Desktop/updated_training_file/1A1M_test_df.csv' file read with 26 True\n",
      "'/Users/krishnagupta/Desktop/updated_training_file/5IRO_test_df.csv' file read with 55 True\n",
      "'/Users/krishnagupta/Desktop/updated_training_file/7t2u_test_df.csv' file read with 1 True\n",
      "'/Users/krishnagupta/Desktop/updated_training_file/2RHK_test_df.csv' file read with 33 True\n",
      "'/Users/krishnagupta/Desktop/updated_training_file/7WBL_test_df.csv' file read with 46 True\n",
      "'/Users/krishnagupta/Desktop/updated_training_file/2X4R_test_df.csv' file read with 46 True\n",
      "'/Users/krishnagupta/Desktop/updated_training_file/5WJN_test_df.csv' file read with 37 True\n",
      "'/Users/krishnagupta/Desktop/updated_training_file/3REA_test_df.csv' file read with 23 True\n",
      "'/Users/krishnagupta/Desktop/updated_training_file/2BST_test_df.csv' file read with 19 True\n",
      "'/Users/krishnagupta/Desktop/updated_training_file/6E5U_test_df.csv' file read with 12 True\n",
      "'/Users/krishnagupta/Desktop/updated_training_file/test_df_5I22.csv' file read with 16 True\n",
      "'/Users/krishnagupta/Desktop/updated_training_file/2JDQ_test_df.csv' file read with 68 True\n",
      "'/Users/krishnagupta/Desktop/updated_training_file/5TL6_test_df.csv' file read with 45 True\n",
      "'/Users/krishnagupta/Desktop/updated_training_file/4ZNY_test_df.csv' file read with 38 True\n",
      "'/Users/krishnagupta/Desktop/updated_training_file/7OPL_test_df.csv' file read with 35 True\n",
      "'/Users/krishnagupta/Desktop/updated_training_file/8D35_test_df.csv' file read with 52 True\n",
      "'/Users/krishnagupta/Desktop/updated_training_file/7WBQ_test_df.csv' file read with 59 True\n",
      "'/Users/krishnagupta/Desktop/updated_training_file/test_df_5FW5.csv' file read with 41 True\n",
      "'/Users/krishnagupta/Desktop/updated_training_file/7WLP_test_df.csv' file read with 21 True\n",
      "'/Users/krishnagupta/Desktop/updated_training_file/1im3_test_df.csv' file read with 43 True\n",
      "'/Users/krishnagupta/Desktop/updated_training_file/1Q94_test_df.csv' file read with 22 True\n",
      "'/Users/krishnagupta/Desktop/updated_training_file/7sn0_test_df.csv' file read with 44 True\n",
      "'/Users/krishnagupta/Desktop/updated_training_file/6xqi_test_df.csv' file read with 14 True\n",
      "'/Users/krishnagupta/Desktop/updated_training_file/5UL6_test_df.csv' file read with 14 True\n",
      "'/Users/krishnagupta/Desktop/updated_training_file/7T0O_test_df.csv' file read with 21 True\n",
      "'/Users/krishnagupta/Desktop/updated_training_file/7MKB_test_df.csv' file read with 34 True\n",
      "'/Users/krishnagupta/Desktop/updated_training_file/3MRM_test_df.csv' file read with 50 True\n",
      "'/Users/krishnagupta/Desktop/updated_training_file/4lqw_test_df.csv' file read with 13 True\n",
      "'/Users/krishnagupta/Desktop/updated_training_file/7JYW_test_df.csv' file read with 26 True\n",
      "'/Users/krishnagupta/Desktop/updated_training_file/7SUO_test_df.csv' file read with 26 True\n",
      "'/Users/krishnagupta/Desktop/updated_training_file/7EKF_test_df.csv' file read with 61 True\n",
      "'/Users/krishnagupta/Desktop/updated_training_file/7whh_test_df.csv' file read with 53 True\n",
      "'/Users/krishnagupta/Desktop/updated_training_file/test_df_3w39.csv' file read with 26 True\n",
      "'/Users/krishnagupta/Desktop/updated_training_file/6yxj_test_df.csv' file read with 34 True\n",
      "'/Users/krishnagupta/Desktop/updated_training_file/7VX9_test_df.csv' file read with 61 True\n",
      "'/Users/krishnagupta/Desktop/updated_training_file/7KDT_test_df.csv' file read with 104 True\n",
      "'/Users/krishnagupta/Desktop/updated_training_file/7P9W_test_df.csv' file read with 61 True\n",
      "'/Users/krishnagupta/Desktop/updated_training_file/2vsm_test_df.csv' file read with 90 True\n",
      "'/Users/krishnagupta/Desktop/updated_training_file/4U0A_test_df.csv' file read with 30 True\n",
      "'/Users/krishnagupta/Desktop/updated_training_file/7WT4_test_df.csv' file read with 29 True\n",
      "'/Users/krishnagupta/Desktop/updated_training_file/7QTX_test_df.csv' file read with 70 True\n",
      "'/Users/krishnagupta/Desktop/updated_training_file/2X4S_test_df.csv' file read with 31 True\n",
      "'/Users/krishnagupta/Desktop/updated_training_file/5HDA_test_df.csv' file read with 22 True\n",
      "'/Users/krishnagupta/Desktop/updated_training_file/7F90_test_df.csv' file read with 30 True\n",
      "'/Users/krishnagupta/Desktop/updated_training_file/4i48_test_df.csv' file read with 27 True\n",
      "'/Users/krishnagupta/Desktop/updated_training_file/4FA8_test_df.csv' file read with 12 True\n",
      "'/Users/krishnagupta/Desktop/updated_training_file/2MA9_test_df.csv' file read with 9 True\n"
     ]
    }
   ],
   "source": [
    "file_list = glob.glob(data_dir + \"*.csv\")\n",
    "\n",
    "for file_name in file_list:\n",
    "\n",
    "        df_temp = pd.read_csv(file_name)\n",
    "        df_xn = (df_temp[[\"cmi.m$value\",\"cc.m$value\",\"cp.m$value\",\"cp1.m$value\", \"cp2.m$value\",\"hcm.m$value\",\"rsa.m$value\", \"scm.m$value\",\"ssp.m$value\", \"ecc.m$value\", \"ecmi.m$value\", \"ecp.m$value\", \"ecp1.m$value\", \"ecp2.m$value\", \"ehcm.m$value\", \"ersa.m$value\", \"escm.m$value\", \"essp.m$value\"]])\n",
    "\n",
    "        df_yn = (df_temp[[\"inf.m$value\"]])\n",
    "        df_x = pd.concat([df_x,df_xn])\n",
    "        df_y = pd.concat([df_y,df_yn])\n",
    "        print(\"'%-40s' file read with %i True\" %(file_name, df_temp[df_temp[\"inf.m$value\"] == 1].shape[0]))\n"
   ]
  },
  {
   "cell_type": "code",
   "execution_count": 6,
   "id": "abad25f0",
   "metadata": {},
   "outputs": [],
   "source": [
    "from imblearn.over_sampling import RandomOverSampler\n",
    "over = RandomOverSampler(sampling_strategy='minority', random_state=42)\n",
    "x_over, y_over = over.fit_resample(df_x, df_y)"
   ]
  },
  {
   "cell_type": "code",
   "execution_count": 7,
   "id": "d4f2196f",
   "metadata": {},
   "outputs": [
    {
     "data": {
      "text/html": [
       "<div>\n",
       "<style scoped>\n",
       "    .dataframe tbody tr th:only-of-type {\n",
       "        vertical-align: middle;\n",
       "    }\n",
       "\n",
       "    .dataframe tbody tr th {\n",
       "        vertical-align: top;\n",
       "    }\n",
       "\n",
       "    .dataframe thead th {\n",
       "        text-align: right;\n",
       "    }\n",
       "</style>\n",
       "<table border=\"1\" class=\"dataframe\">\n",
       "  <thead>\n",
       "    <tr style=\"text-align: right;\">\n",
       "      <th></th>\n",
       "      <th>inf.m$value</th>\n",
       "    </tr>\n",
       "  </thead>\n",
       "  <tbody>\n",
       "    <tr>\n",
       "      <th>0</th>\n",
       "      <td>0</td>\n",
       "    </tr>\n",
       "    <tr>\n",
       "      <th>1</th>\n",
       "      <td>0</td>\n",
       "    </tr>\n",
       "    <tr>\n",
       "      <th>2</th>\n",
       "      <td>0</td>\n",
       "    </tr>\n",
       "    <tr>\n",
       "      <th>3</th>\n",
       "      <td>0</td>\n",
       "    </tr>\n",
       "    <tr>\n",
       "      <th>4</th>\n",
       "      <td>0</td>\n",
       "    </tr>\n",
       "    <tr>\n",
       "      <th>...</th>\n",
       "      <td>...</td>\n",
       "    </tr>\n",
       "    <tr>\n",
       "      <th>11448177</th>\n",
       "      <td>1</td>\n",
       "    </tr>\n",
       "    <tr>\n",
       "      <th>11448178</th>\n",
       "      <td>1</td>\n",
       "    </tr>\n",
       "    <tr>\n",
       "      <th>11448179</th>\n",
       "      <td>1</td>\n",
       "    </tr>\n",
       "    <tr>\n",
       "      <th>11448180</th>\n",
       "      <td>1</td>\n",
       "    </tr>\n",
       "    <tr>\n",
       "      <th>11448181</th>\n",
       "      <td>1</td>\n",
       "    </tr>\n",
       "  </tbody>\n",
       "</table>\n",
       "<p>11448182 rows × 1 columns</p>\n",
       "</div>"
      ],
      "text/plain": [
       "          inf.m$value\n",
       "0                   0\n",
       "1                   0\n",
       "2                   0\n",
       "3                   0\n",
       "4                   0\n",
       "...               ...\n",
       "11448177            1\n",
       "11448178            1\n",
       "11448179            1\n",
       "11448180            1\n",
       "11448181            1\n",
       "\n",
       "[11448182 rows x 1 columns]"
      ]
     },
     "execution_count": 7,
     "metadata": {},
     "output_type": "execute_result"
    }
   ],
   "source": [
    "y_over"
   ]
  },
  {
   "cell_type": "code",
   "execution_count": 8,
   "id": "1fc5b80c",
   "metadata": {},
   "outputs": [],
   "source": [
    "from sklearn.model_selection import train_test_split\n",
    "from sklearn.preprocessing import StandardScaler\n",
    "from sklearn.neural_network import MLPClassifier\n",
    "from sklearn.metrics import classification_report, ConfusionMatrixDisplay\n",
    "\n",
    "#scaler = StandardScaler().fit(x_over)\n",
    "#rescaledX = scaler.transform(x_over)"
   ]
  },
  {
   "cell_type": "code",
   "execution_count": 9,
   "id": "0b405048",
   "metadata": {},
   "outputs": [],
   "source": [
    "X_train, X_test, y_train, y_test = train_test_split(x_over, y_over, train_size=0.80, test_size=0.20, shuffle= True,  random_state=42)"
   ]
  },
  {
   "cell_type": "code",
   "execution_count": 10,
   "id": "a0dcdc62",
   "metadata": {},
   "outputs": [
    {
     "data": {
      "text/plain": [
       "{0: 1144994, 1: 1144643}"
      ]
     },
     "execution_count": 10,
     "metadata": {},
     "output_type": "execute_result"
    }
   ],
   "source": [
    "import numpy as np\n",
    "unique, counts = np.unique(y_test, return_counts=True)\n",
    "dict(zip(unique, counts))"
   ]
  },
  {
   "cell_type": "code",
   "execution_count": 11,
   "id": "3d2a5192",
   "metadata": {},
   "outputs": [],
   "source": [
    "sdscaler = StandardScaler()\n",
    "\n",
    "X_train_sd = sdscaler.fit_transform(X_train)\n",
    "X_test_sd = sdscaler.fit_transform(X_test)"
   ]
  },
  {
   "cell_type": "code",
   "execution_count": 12,
   "id": "f92c7d2a",
   "metadata": {},
   "outputs": [
    {
     "data": {
      "text/plain": [
       "18"
      ]
     },
     "execution_count": 12,
     "metadata": {},
     "output_type": "execute_result"
    }
   ],
   "source": [
    "X_train_sd.shape[1]"
   ]
  },
  {
   "cell_type": "code",
   "execution_count": 13,
   "id": "78acae78",
   "metadata": {},
   "outputs": [
    {
     "data": {
      "text/html": [
       "<pre style=\"white-space:pre;overflow-x:auto;line-height:normal;font-family:Menlo,'DejaVu Sans Mono',consolas,'Courier New',monospace\"><span style=\"font-weight: bold\">Model: \"functional\"</span>\n",
       "</pre>\n"
      ],
      "text/plain": [
       "\u001b[1mModel: \"functional\"\u001b[0m\n"
      ]
     },
     "metadata": {},
     "output_type": "display_data"
    },
    {
     "data": {
      "text/html": [
       "<pre style=\"white-space:pre;overflow-x:auto;line-height:normal;font-family:Menlo,'DejaVu Sans Mono',consolas,'Courier New',monospace\">┏━━━━━━━━━━━━━━━━━━━━━━━━━━━━━━━━━┳━━━━━━━━━━━━━━━━━━━━━━━━┳━━━━━━━━━━━━━━━┓\n",
       "┃<span style=\"font-weight: bold\"> Layer (type)                    </span>┃<span style=\"font-weight: bold\"> Output Shape           </span>┃<span style=\"font-weight: bold\">       Param # </span>┃\n",
       "┡━━━━━━━━━━━━━━━━━━━━━━━━━━━━━━━━━╇━━━━━━━━━━━━━━━━━━━━━━━━╇━━━━━━━━━━━━━━━┩\n",
       "│ input_layer (<span style=\"color: #0087ff; text-decoration-color: #0087ff\">InputLayer</span>)        │ (<span style=\"color: #00d7ff; text-decoration-color: #00d7ff\">None</span>, <span style=\"color: #00af00; text-decoration-color: #00af00\">18</span>, <span style=\"color: #00af00; text-decoration-color: #00af00\">1</span>)          │             <span style=\"color: #00af00; text-decoration-color: #00af00\">0</span> │\n",
       "├─────────────────────────────────┼────────────────────────┼───────────────┤\n",
       "│ reshape (<span style=\"color: #0087ff; text-decoration-color: #0087ff\">Reshape</span>)               │ (<span style=\"color: #00d7ff; text-decoration-color: #00d7ff\">None</span>, <span style=\"color: #00af00; text-decoration-color: #00af00\">18</span>)             │             <span style=\"color: #00af00; text-decoration-color: #00af00\">0</span> │\n",
       "├─────────────────────────────────┼────────────────────────┼───────────────┤\n",
       "│ dense (<span style=\"color: #0087ff; text-decoration-color: #0087ff\">Dense</span>)                   │ (<span style=\"color: #00d7ff; text-decoration-color: #00d7ff\">None</span>, <span style=\"color: #00af00; text-decoration-color: #00af00\">16</span>)             │           <span style=\"color: #00af00; text-decoration-color: #00af00\">304</span> │\n",
       "├─────────────────────────────────┼────────────────────────┼───────────────┤\n",
       "│ batch_normalization             │ (<span style=\"color: #00d7ff; text-decoration-color: #00d7ff\">None</span>, <span style=\"color: #00af00; text-decoration-color: #00af00\">16</span>)             │            <span style=\"color: #00af00; text-decoration-color: #00af00\">64</span> │\n",
       "│ (<span style=\"color: #0087ff; text-decoration-color: #0087ff\">BatchNormalization</span>)            │                        │               │\n",
       "├─────────────────────────────────┼────────────────────────┼───────────────┤\n",
       "│ activation (<span style=\"color: #0087ff; text-decoration-color: #0087ff\">Activation</span>)         │ (<span style=\"color: #00d7ff; text-decoration-color: #00d7ff\">None</span>, <span style=\"color: #00af00; text-decoration-color: #00af00\">16</span>)             │             <span style=\"color: #00af00; text-decoration-color: #00af00\">0</span> │\n",
       "├─────────────────────────────────┼────────────────────────┼───────────────┤\n",
       "│ dropout (<span style=\"color: #0087ff; text-decoration-color: #0087ff\">Dropout</span>)               │ (<span style=\"color: #00d7ff; text-decoration-color: #00d7ff\">None</span>, <span style=\"color: #00af00; text-decoration-color: #00af00\">16</span>)             │             <span style=\"color: #00af00; text-decoration-color: #00af00\">0</span> │\n",
       "├─────────────────────────────────┼────────────────────────┼───────────────┤\n",
       "│ reshape_1 (<span style=\"color: #0087ff; text-decoration-color: #0087ff\">Reshape</span>)             │ (<span style=\"color: #00d7ff; text-decoration-color: #00d7ff\">None</span>, <span style=\"color: #00af00; text-decoration-color: #00af00\">16</span>, <span style=\"color: #00af00; text-decoration-color: #00af00\">1</span>)          │             <span style=\"color: #00af00; text-decoration-color: #00af00\">0</span> │\n",
       "├─────────────────────────────────┼────────────────────────┼───────────────┤\n",
       "│ conv1d (<span style=\"color: #0087ff; text-decoration-color: #0087ff\">Conv1D</span>)                 │ (<span style=\"color: #00d7ff; text-decoration-color: #00d7ff\">None</span>, <span style=\"color: #00af00; text-decoration-color: #00af00\">14</span>, <span style=\"color: #00af00; text-decoration-color: #00af00\">3</span>)          │            <span style=\"color: #00af00; text-decoration-color: #00af00\">12</span> │\n",
       "├─────────────────────────────────┼────────────────────────┼───────────────┤\n",
       "│ batch_normalization_1           │ (<span style=\"color: #00d7ff; text-decoration-color: #00d7ff\">None</span>, <span style=\"color: #00af00; text-decoration-color: #00af00\">14</span>, <span style=\"color: #00af00; text-decoration-color: #00af00\">3</span>)          │            <span style=\"color: #00af00; text-decoration-color: #00af00\">12</span> │\n",
       "│ (<span style=\"color: #0087ff; text-decoration-color: #0087ff\">BatchNormalization</span>)            │                        │               │\n",
       "├─────────────────────────────────┼────────────────────────┼───────────────┤\n",
       "│ activation_1 (<span style=\"color: #0087ff; text-decoration-color: #0087ff\">Activation</span>)       │ (<span style=\"color: #00d7ff; text-decoration-color: #00d7ff\">None</span>, <span style=\"color: #00af00; text-decoration-color: #00af00\">14</span>, <span style=\"color: #00af00; text-decoration-color: #00af00\">3</span>)          │             <span style=\"color: #00af00; text-decoration-color: #00af00\">0</span> │\n",
       "├─────────────────────────────────┼────────────────────────┼───────────────┤\n",
       "│ max_pooling1d (<span style=\"color: #0087ff; text-decoration-color: #0087ff\">MaxPooling1D</span>)    │ (<span style=\"color: #00d7ff; text-decoration-color: #00d7ff\">None</span>, <span style=\"color: #00af00; text-decoration-color: #00af00\">14</span>, <span style=\"color: #00af00; text-decoration-color: #00af00\">3</span>)          │             <span style=\"color: #00af00; text-decoration-color: #00af00\">0</span> │\n",
       "├─────────────────────────────────┼────────────────────────┼───────────────┤\n",
       "│ flatten (<span style=\"color: #0087ff; text-decoration-color: #0087ff\">Flatten</span>)               │ (<span style=\"color: #00d7ff; text-decoration-color: #00d7ff\">None</span>, <span style=\"color: #00af00; text-decoration-color: #00af00\">42</span>)             │             <span style=\"color: #00af00; text-decoration-color: #00af00\">0</span> │\n",
       "├─────────────────────────────────┼────────────────────────┼───────────────┤\n",
       "│ dense_1 (<span style=\"color: #0087ff; text-decoration-color: #0087ff\">Dense</span>)                 │ (<span style=\"color: #00d7ff; text-decoration-color: #00d7ff\">None</span>, <span style=\"color: #00af00; text-decoration-color: #00af00\">1</span>)              │            <span style=\"color: #00af00; text-decoration-color: #00af00\">43</span> │\n",
       "├─────────────────────────────────┼────────────────────────┼───────────────┤\n",
       "│ activation_2 (<span style=\"color: #0087ff; text-decoration-color: #0087ff\">Activation</span>)       │ (<span style=\"color: #00d7ff; text-decoration-color: #00d7ff\">None</span>, <span style=\"color: #00af00; text-decoration-color: #00af00\">1</span>)              │             <span style=\"color: #00af00; text-decoration-color: #00af00\">0</span> │\n",
       "└─────────────────────────────────┴────────────────────────┴───────────────┘\n",
       "</pre>\n"
      ],
      "text/plain": [
       "┏━━━━━━━━━━━━━━━━━━━━━━━━━━━━━━━━━┳━━━━━━━━━━━━━━━━━━━━━━━━┳━━━━━━━━━━━━━━━┓\n",
       "┃\u001b[1m \u001b[0m\u001b[1mLayer (type)                   \u001b[0m\u001b[1m \u001b[0m┃\u001b[1m \u001b[0m\u001b[1mOutput Shape          \u001b[0m\u001b[1m \u001b[0m┃\u001b[1m \u001b[0m\u001b[1m      Param #\u001b[0m\u001b[1m \u001b[0m┃\n",
       "┡━━━━━━━━━━━━━━━━━━━━━━━━━━━━━━━━━╇━━━━━━━━━━━━━━━━━━━━━━━━╇━━━━━━━━━━━━━━━┩\n",
       "│ input_layer (\u001b[38;5;33mInputLayer\u001b[0m)        │ (\u001b[38;5;45mNone\u001b[0m, \u001b[38;5;34m18\u001b[0m, \u001b[38;5;34m1\u001b[0m)          │             \u001b[38;5;34m0\u001b[0m │\n",
       "├─────────────────────────────────┼────────────────────────┼───────────────┤\n",
       "│ reshape (\u001b[38;5;33mReshape\u001b[0m)               │ (\u001b[38;5;45mNone\u001b[0m, \u001b[38;5;34m18\u001b[0m)             │             \u001b[38;5;34m0\u001b[0m │\n",
       "├─────────────────────────────────┼────────────────────────┼───────────────┤\n",
       "│ dense (\u001b[38;5;33mDense\u001b[0m)                   │ (\u001b[38;5;45mNone\u001b[0m, \u001b[38;5;34m16\u001b[0m)             │           \u001b[38;5;34m304\u001b[0m │\n",
       "├─────────────────────────────────┼────────────────────────┼───────────────┤\n",
       "│ batch_normalization             │ (\u001b[38;5;45mNone\u001b[0m, \u001b[38;5;34m16\u001b[0m)             │            \u001b[38;5;34m64\u001b[0m │\n",
       "│ (\u001b[38;5;33mBatchNormalization\u001b[0m)            │                        │               │\n",
       "├─────────────────────────────────┼────────────────────────┼───────────────┤\n",
       "│ activation (\u001b[38;5;33mActivation\u001b[0m)         │ (\u001b[38;5;45mNone\u001b[0m, \u001b[38;5;34m16\u001b[0m)             │             \u001b[38;5;34m0\u001b[0m │\n",
       "├─────────────────────────────────┼────────────────────────┼───────────────┤\n",
       "│ dropout (\u001b[38;5;33mDropout\u001b[0m)               │ (\u001b[38;5;45mNone\u001b[0m, \u001b[38;5;34m16\u001b[0m)             │             \u001b[38;5;34m0\u001b[0m │\n",
       "├─────────────────────────────────┼────────────────────────┼───────────────┤\n",
       "│ reshape_1 (\u001b[38;5;33mReshape\u001b[0m)             │ (\u001b[38;5;45mNone\u001b[0m, \u001b[38;5;34m16\u001b[0m, \u001b[38;5;34m1\u001b[0m)          │             \u001b[38;5;34m0\u001b[0m │\n",
       "├─────────────────────────────────┼────────────────────────┼───────────────┤\n",
       "│ conv1d (\u001b[38;5;33mConv1D\u001b[0m)                 │ (\u001b[38;5;45mNone\u001b[0m, \u001b[38;5;34m14\u001b[0m, \u001b[38;5;34m3\u001b[0m)          │            \u001b[38;5;34m12\u001b[0m │\n",
       "├─────────────────────────────────┼────────────────────────┼───────────────┤\n",
       "│ batch_normalization_1           │ (\u001b[38;5;45mNone\u001b[0m, \u001b[38;5;34m14\u001b[0m, \u001b[38;5;34m3\u001b[0m)          │            \u001b[38;5;34m12\u001b[0m │\n",
       "│ (\u001b[38;5;33mBatchNormalization\u001b[0m)            │                        │               │\n",
       "├─────────────────────────────────┼────────────────────────┼───────────────┤\n",
       "│ activation_1 (\u001b[38;5;33mActivation\u001b[0m)       │ (\u001b[38;5;45mNone\u001b[0m, \u001b[38;5;34m14\u001b[0m, \u001b[38;5;34m3\u001b[0m)          │             \u001b[38;5;34m0\u001b[0m │\n",
       "├─────────────────────────────────┼────────────────────────┼───────────────┤\n",
       "│ max_pooling1d (\u001b[38;5;33mMaxPooling1D\u001b[0m)    │ (\u001b[38;5;45mNone\u001b[0m, \u001b[38;5;34m14\u001b[0m, \u001b[38;5;34m3\u001b[0m)          │             \u001b[38;5;34m0\u001b[0m │\n",
       "├─────────────────────────────────┼────────────────────────┼───────────────┤\n",
       "│ flatten (\u001b[38;5;33mFlatten\u001b[0m)               │ (\u001b[38;5;45mNone\u001b[0m, \u001b[38;5;34m42\u001b[0m)             │             \u001b[38;5;34m0\u001b[0m │\n",
       "├─────────────────────────────────┼────────────────────────┼───────────────┤\n",
       "│ dense_1 (\u001b[38;5;33mDense\u001b[0m)                 │ (\u001b[38;5;45mNone\u001b[0m, \u001b[38;5;34m1\u001b[0m)              │            \u001b[38;5;34m43\u001b[0m │\n",
       "├─────────────────────────────────┼────────────────────────┼───────────────┤\n",
       "│ activation_2 (\u001b[38;5;33mActivation\u001b[0m)       │ (\u001b[38;5;45mNone\u001b[0m, \u001b[38;5;34m1\u001b[0m)              │             \u001b[38;5;34m0\u001b[0m │\n",
       "└─────────────────────────────────┴────────────────────────┴───────────────┘\n"
      ]
     },
     "metadata": {},
     "output_type": "display_data"
    },
    {
     "data": {
      "text/html": [
       "<pre style=\"white-space:pre;overflow-x:auto;line-height:normal;font-family:Menlo,'DejaVu Sans Mono',consolas,'Courier New',monospace\"><span style=\"font-weight: bold\"> Total params: </span><span style=\"color: #00af00; text-decoration-color: #00af00\">435</span> (1.70 KB)\n",
       "</pre>\n"
      ],
      "text/plain": [
       "\u001b[1m Total params: \u001b[0m\u001b[38;5;34m435\u001b[0m (1.70 KB)\n"
      ]
     },
     "metadata": {},
     "output_type": "display_data"
    },
    {
     "data": {
      "text/html": [
       "<pre style=\"white-space:pre;overflow-x:auto;line-height:normal;font-family:Menlo,'DejaVu Sans Mono',consolas,'Courier New',monospace\"><span style=\"font-weight: bold\"> Trainable params: </span><span style=\"color: #00af00; text-decoration-color: #00af00\">397</span> (1.55 KB)\n",
       "</pre>\n"
      ],
      "text/plain": [
       "\u001b[1m Trainable params: \u001b[0m\u001b[38;5;34m397\u001b[0m (1.55 KB)\n"
      ]
     },
     "metadata": {},
     "output_type": "display_data"
    },
    {
     "data": {
      "text/html": [
       "<pre style=\"white-space:pre;overflow-x:auto;line-height:normal;font-family:Menlo,'DejaVu Sans Mono',consolas,'Courier New',monospace\"><span style=\"font-weight: bold\"> Non-trainable params: </span><span style=\"color: #00af00; text-decoration-color: #00af00\">38</span> (152.00 B)\n",
       "</pre>\n"
      ],
      "text/plain": [
       "\u001b[1m Non-trainable params: \u001b[0m\u001b[38;5;34m38\u001b[0m (152.00 B)\n"
      ]
     },
     "metadata": {},
     "output_type": "display_data"
    }
   ],
   "source": [
    "import keras\n",
    "inputs = keras.layers.Input(shape=(X_train_sd.shape[1],1))\n",
    "RS0    = keras.layers.Reshape((X_train_sd.shape[1], ))(inputs)\n",
    "FC0    = keras.layers.Dense(16, bias_initializer=keras.initializers.VarianceScaling())(RS0)\n",
    "BN0    = keras.layers.BatchNormalization(axis=-1)(FC0)\n",
    "AC0    = keras.layers.Activation('relu')(BN0)\n",
    "DP0    = keras.layers.Dropout(0.2)(AC0)\n",
    "\n",
    "RS1    = keras.layers.Reshape((16,1))(DP0)\n",
    "FC1    = keras.layers.Conv1D(3,3,strides=1)(RS1)\n",
    "BN1    = keras.layers.BatchNormalization(axis=-1)(FC1)\n",
    "AC1    = keras.layers.Activation('relu')(BN1)\n",
    "Pool1 = keras.layers.MaxPool1D(pool_size=1)(AC1)\n",
    "FL1   = keras.layers.Flatten()(Pool1)\n",
    "\n",
    "FC3 =   keras.layers.Dense(1, bias_initializer=keras.initializers.VarianceScaling())(FL1)\n",
    "outputs = keras.layers.Activation('softmax')(FC3)\n",
    "\n",
    "myCNN1D1 = keras.Model(inputs=inputs,outputs=outputs)\n",
    "myCNN1D1.compile(optimizer=keras.optimizers.Adam(),\n",
    "                 loss='binary_crossentropy',\n",
    "                 metrics=['accuracy'])\n",
    "\n",
    "myCNN1D1.summary()"
   ]
  },
  {
   "cell_type": "code",
   "execution_count": 14,
   "id": "230797d3",
   "metadata": {},
   "outputs": [
    {
     "name": "stdout",
     "output_type": "stream",
     "text": [
      "Epoch 1/5\n"
     ]
    },
    {
     "name": "stderr",
     "output_type": "stream",
     "text": [
      "/Library/Frameworks/Python.framework/Versions/3.10/lib/python3.10/site-packages/keras/src/ops/nn.py:545: UserWarning: You are using a softmax over axis -1 of a tensor of shape (None, 1). This axis has size 1. The softmax operation will always return the value 1, which is likely not what you intended. Did you mean to use a sigmoid instead?\n",
      "  warnings.warn(\n"
     ]
    },
    {
     "name": "stdout",
     "output_type": "stream",
     "text": [
      "\u001b[1m286122/286205\u001b[0m \u001b[32m━━━━━━━━━━━━━━━━━━━\u001b[0m\u001b[37m━\u001b[0m \u001b[1m0s\u001b[0m 322us/step - accuracy: 0.5002 - loss: 0.5823"
     ]
    },
    {
     "name": "stderr",
     "output_type": "stream",
     "text": [
      "/Library/Frameworks/Python.framework/Versions/3.10/lib/python3.10/site-packages/keras/src/ops/nn.py:545: UserWarning: You are using a softmax over axis -1 of a tensor of shape (None, 1). This axis has size 1. The softmax operation will always return the value 1, which is likely not what you intended. Did you mean to use a sigmoid instead?\n",
      "  warnings.warn(\n"
     ]
    },
    {
     "name": "stdout",
     "output_type": "stream",
     "text": [
      "\u001b[1m286205/286205\u001b[0m \u001b[32m━━━━━━━━━━━━━━━━━━━━\u001b[0m\u001b[37m\u001b[0m \u001b[1m106s\u001b[0m 368us/step - accuracy: 0.5002 - loss: 0.5823 - val_accuracy: 0.4999 - val_loss: 0.5502\n",
      "Epoch 2/5\n",
      "\u001b[1m286205/286205\u001b[0m \u001b[32m━━━━━━━━━━━━━━━━━━━━\u001b[0m\u001b[37m\u001b[0m \u001b[1m108s\u001b[0m 376us/step - accuracy: 0.5000 - loss: 0.5637 - val_accuracy: 0.4999 - val_loss: 0.5479\n",
      "Epoch 3/5\n",
      "\u001b[1m286205/286205\u001b[0m \u001b[32m━━━━━━━━━━━━━━━━━━━━\u001b[0m\u001b[37m\u001b[0m \u001b[1m107s\u001b[0m 372us/step - accuracy: 0.4996 - loss: 0.5622 - val_accuracy: 0.4999 - val_loss: 0.5391\n",
      "Epoch 4/5\n",
      "\u001b[1m286205/286205\u001b[0m \u001b[32m━━━━━━━━━━━━━━━━━━━━\u001b[0m\u001b[37m\u001b[0m \u001b[1m118s\u001b[0m 413us/step - accuracy: 0.4999 - loss: 0.5616 - val_accuracy: 0.4999 - val_loss: 0.5392\n",
      "Epoch 5/5\n",
      "\u001b[1m286205/286205\u001b[0m \u001b[32m━━━━━━━━━━━━━━━━━━━━\u001b[0m\u001b[37m\u001b[0m \u001b[1m113s\u001b[0m 394us/step - accuracy: 0.5002 - loss: 0.5610 - val_accuracy: 0.4999 - val_loss: 0.5351\n"
     ]
    },
    {
     "data": {
      "text/plain": [
       "<keras.src.callbacks.history.History at 0x2d68357b0>"
      ]
     },
     "execution_count": 14,
     "metadata": {},
     "output_type": "execute_result"
    }
   ],
   "source": [
    "import tensorflow as tf\n",
    "#class_weight = {0: 1, 1: 4}\n",
    "early_stopping_callback = tf.keras.callbacks.EarlyStopping(monitor='val_loss', patience=3)\n",
    "myCNN1D1.fit(X_train_sd, y_train,validation_data=(X_test_sd, y_test),epochs=5,verbose=1,callbacks=[early_stopping_callback])"
   ]
  },
  {
   "cell_type": "code",
   "execution_count": null,
   "id": "53fad95a",
   "metadata": {},
   "outputs": [],
   "source": [
    "\n"
   ]
  },
  {
   "cell_type": "code",
   "execution_count": null,
   "id": "05daeb83",
   "metadata": {},
   "outputs": [],
   "source": []
  },
  {
   "cell_type": "code",
   "execution_count": null,
   "id": "26f36bd0",
   "metadata": {},
   "outputs": [],
   "source": []
  },
  {
   "cell_type": "code",
   "execution_count": null,
   "id": "54c4c622",
   "metadata": {},
   "outputs": [],
   "source": []
  },
  {
   "cell_type": "code",
   "execution_count": null,
   "id": "8e0b110f",
   "metadata": {},
   "outputs": [],
   "source": []
  }
 ],
 "metadata": {
  "kernelspec": {
   "display_name": "Python 3 (ipykernel)",
   "language": "python",
   "name": "python3"
  },
  "language_info": {
   "codemirror_mode": {
    "name": "ipython",
    "version": 3
   },
   "file_extension": ".py",
   "mimetype": "text/x-python",
   "name": "python",
   "nbconvert_exporter": "python",
   "pygments_lexer": "ipython3",
   "version": "3.12.4"
  }
 },
 "nbformat": 4,
 "nbformat_minor": 5
}
